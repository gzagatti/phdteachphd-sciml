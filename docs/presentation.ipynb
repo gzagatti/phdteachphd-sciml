{
 "cells": [
  {
   "cell_type": "markdown",
   "metadata": {
    "slideshow": {
     "slide_type": "slide"
    }
   },
   "source": [
    "# Phd-teach-PhD: Approaching science with AI\n",
    "\n",
    "**An introduction to scientific machine learning**\n",
    "\n",
    "Guilherme Zagatti      \n",
    "PhD candidate, NUS ISEP/IDS   \n",
    "<gzagatti@u.nus.edu>   "
   ]
  },
  {
   "cell_type": "markdown",
   "metadata": {
    "slideshow": {
     "slide_type": "slide"
    },
    "tags": []
   },
   "source": [
    "# Outline\n",
    "\n",
    "1. Motivation\n",
    "\n",
    "    Dynamical systems describe changes we observe\n",
    "\n",
    "2. Julia\n",
    "\n",
    "    Intro to the language and ecosystem\n",
    "    \n",
    "3. A formal introduction to ODEs and SciML\n",
    "\n",
    "    The initial value problem\n",
    "        \n",
    "    Fitting data to ODEs, classical approaches\n",
    "    \n",
    "4. NeuralODE\n",
    "\n",
    "    The initial value problem reviewed\n",
    "    \n",
    "5. Exercises\n",
    "\n",
    "6. References"
   ]
  },
  {
   "cell_type": "markdown",
   "metadata": {
    "slideshow": {
     "slide_type": "slide"
    }
   },
   "source": [
    "# Motivation\n",
    "\n",
    "**Dynamical systems describe changes we observe**"
   ]
  },
  {
   "cell_type": "markdown",
   "metadata": {
    "slideshow": {
     "slide_type": "subslide"
    },
    "tags": []
   },
   "source": [
    "## \"It is then by cause that we define time\" (Poincaré 1903)\n",
    "\n",
    "How do we learn about cause and effect if not by how we observe things evolving? \n",
    "\n",
    "**Dynamical systems** are an evolution rule that defines a trajectory as a map (Meiss 2007):\n",
    "\n",
    "<br/>\n",
    "\n",
    "$$\n",
    "    \\text{time} ↦ \\text{set of states}\n",
    "$$\n",
    "\n",
    "<br/>\n",
    "\n",
    "As a mathematics discipline, the study of dynamical systems originates at the end of 19th century spearheaded by [Henri Poincaré](https://plato.stanford.edu/entries/poincare/) who also developed an extensive theory of sciences."
   ]
  },
  {
   "cell_type": "markdown",
   "metadata": {
    "slideshow": {
     "slide_type": "subslide"
    },
    "tags": []
   },
   "source": [
    "## Physics: coupled oscillator\n",
    "\n",
    "Describes the movement of an object with **mass $m$ attached to a spring under force $F$**.\n",
    "\n",
    "The force follows **Hooke's law**, that is, it is proportional to the initial displacement.\n",
    "\n",
    "<div style=\"display: flex;\">\n",
    "<div style=\"flex: 0 0 250px; margin-right: 10px;\">\n",
    "<img src=\"./assets/mass-spring.png\" style=\"height: 250px;\">\n",
    "</div>\n",
    "<div style=\"display: flex; align-items: center;\">\n",
    "$$\n",
    "F = ma \\Rightarrow\n",
    "\\frac{d^2 x}{dt^2} =-\\frac{kx}{m}\n",
    "$$\n",
    "</div>\n",
    "</div>"
   ]
  },
  {
   "cell_type": "markdown",
   "metadata": {
    "slideshow": {
     "slide_type": "subslide"
    },
    "tags": []
   },
   "source": [
    "## Ecology: Lotka-Volterra\n",
    "\n",
    "Describes the **dynamics of two-competing species**, the prey $x$ and predator $y$. Predator and prey come in contact to one another according to the proportion of each specie in the environment.\n",
    "\n",
    "The prey is born with rate $\\alpha$. The predator kills the prey with rate $\\beta$. \n",
    "\n",
    "The predator needs to eat the prey to reproduce at rate $\\delta$. The predator dies of natural cause at rate $\\gamma$.\n",
    "\n",
    "<div style=\"display: flex;\">\n",
    "<div style=\"flex: 0 0 250px; margin-right: 10px;\">\n",
    "<img src=\"./assets/fox-rabbit.png\" style=\"height: 200px;\">\n",
    "</div>\n",
    "<div style=\"display: flex; align-items: center;\">\n",
    "$$\n",
    "\\begin{aligned}\n",
    "\\frac{dx}{dt} &= \\alpha x - \\beta xy \\\\\n",
    "\\frac{dy}{dt} & = \\delta xy - \\gamma y\n",
    "\\end{aligned}\n",
    "$$\n",
    "</div>\n",
    "</div>"
   ]
  },
  {
   "cell_type": "markdown",
   "metadata": {
    "slideshow": {
     "slide_type": "subslide"
    },
    "tags": []
   },
   "source": [
    "## Epidemiology: SIR\n",
    "\n",
    "Susceptible-infected-recovered: describes the **evolution of an infectious disease**. \n",
    "\n",
    "Susceptible and infected individuals come in contact to one another according to the proportion of each type in the population. The disease is then transmitted with rate $\\beta$. An infected person recovers with rate $\\gamma$.\n",
    "\n",
    "<div style=\"display: flex;\">\n",
    "<div style=\"flex: 0 0 250px; margin-right: 10px;\">\n",
    "<img src=\"./assets/sneeze.png\" style=\"width: 250px\">\n",
    "</div>\n",
    "<div style=\"display: flex; align-items: center;\">\n",
    "$$\n",
    "\\begin{aligned}\n",
    "\\frac{ds}{dt} &= - \\beta si \\\\\n",
    "\\frac{di}{dt} & = \\beta si - \\gamma i \\\\\n",
    "\\frac{dr}{dt} &= \\gamma i\n",
    "\\end{aligned}\n",
    "$$\n",
    "</div>\n",
    "</div>"
   ]
  },
  {
   "cell_type": "markdown",
   "metadata": {
    "slideshow": {
     "slide_type": "subslide"
    },
    "tags": []
   },
   "source": [
    "## Economics: Solow growth model\n",
    "\n",
    "The production function $f(\\cdot)$ describes **economic growth as a function of capital $k$**. \n",
    "\n",
    "The rate of capital growth is constrained by the savings rate $s$ and the depreciation rate of capital $\\delta$. \n",
    "\n",
    "<div style=\"display: flex;\">\n",
    "<div style=\"flex: 0 0 250px; margin-right: 10px;\">\n",
    "<img src=\"./assets/growth.png\" style=\"width: 250px;\">\n",
    "</div>\n",
    "<div style=\"display: flex; align-items: center;\">\n",
    "$$\n",
    "\\frac{dk}{dt} = s f(k) - \\delta k\n",
    "$$\n",
    "</div>\n",
    "</div>"
   ]
  },
  {
   "cell_type": "markdown",
   "metadata": {
    "slideshow": {
     "slide_type": "subslide"
    },
    "tags": []
   },
   "source": [
    "## A common thread\n",
    "\n",
    "All of the presented models describe how the **variables of interest** change as a **function of time** given a set of parameters which are held fix.\n",
    "\n",
    "Let our variables of interest be $ x = (x_1 \\;  x_2 \\;  \\dots \\;  x_N) \\in \\mathbb{R}^N$ and the law of motion $f: \\mathbb{R}^N ↦ \\mathbb{R}^N $.\n",
    "\n",
    "We can express any **generic model** as a system of Ordinary Differential Equations (ODEs):\n",
    "\n",
    "$$\n",
    "\\dot{x} = \\frac{d x}{dt} = f(x)\n",
    "$$\n",
    "\n",
    "A key problem is whether any such models have a **unique solution**, that is:\n",
    "\n",
    "> If we are given an initial set of parameters and an initial condition can we determine the state of the system at any point in the future?"
   ]
  },
  {
   "cell_type": "markdown",
   "metadata": {
    "slideshow": {
     "slide_type": "subslide"
    },
    "tags": []
   },
   "source": [
    "## What is in a function?\n",
    "\n",
    "Notice that we placed **no restrictions on $f(\\cdot)$**. So, it could really be anything.\n",
    "\n",
    "> In practical terms, can we develop a method that is able to list every possible way in which an element from a set $X$ can be mapped to a single element of a set $Y$?\n",
    "\n",
    "If set $X$ and $Y$ are small we can simply list all possible functions $K$:\n",
    "\n",
    "<div style=\"display: flex;\">\n",
    "<div style=\"flex: 0 0 50%; align-items: center; margin-right: 10px;\">\n",
    "$$\n",
    "\\vdots \\\\\n",
    "f_k(x) = \\begin{cases}\n",
    "D \\text{, if } x = 1 \\\\\n",
    "C \\text{, if } x \\in \\{2, 3\\}\n",
    "\\end{cases} \\\\\n",
    "\\vdots\n",
    "$$\n",
    "</div>\n",
    "<div style=\"flex: 0 0 50%; align-items: center\">\n",
    "<img src=\"./assets/injection.svg\" style=\"width: 150px;\">\n",
    "</div>\n",
    "</div>\n",
    "\n",
    "However, **this does not scale**. Most spaces are continuous and infinite."
   ]
  },
  {
   "cell_type": "markdown",
   "metadata": {
    "slideshow": {
     "slide_type": "subslide"
    },
    "tags": []
   },
   "source": [
    "## Linear models\n",
    "\n",
    "We can consider additional strategies. \n",
    "\n",
    "For instance, we can restrict ourselves only to **linear functions**, when variables change in proportion to the current state.\n",
    "\n",
    "$$\n",
    "\\dot{x} = f(x) = A x = \\sum_{1 \\leq k \\leq N} \\xi_k \\theta_k(x) \n",
    "$$\n",
    "\n",
    "where $\\theta_k(x) = x_k$.\n",
    "\n",
    "The simple harmonic oscillator presented in the beginning is a member of this class of functions.\n",
    "\n",
    "Again, this is **very restricitve**. "
   ]
  },
  {
   "cell_type": "markdown",
   "metadata": {
    "slideshow": {
     "slide_type": "subslide"
    },
    "tags": []
   },
   "source": [
    "## Classical function generators\n",
    "\n",
    "There are other alternatives, we could have the class of **polynomial functions**. \n",
    "\n",
    "We know from [Taylor's theorem](https://en.wikipedia.org/wiki/Taylor%27s_theorem#Generalizations_of_Taylor's_theorem) that a $k$-times differentiable function $f$ can be approximated with a Polynomial of $k$ degrees. In one dimension, we have:\n",
    "\n",
    "$$\n",
    "\\dot{x} = f(x_0) + \\sum_{k \\in \\mathbb{N}_+} \\frac{d^k f}{dx^k}(x_0) \\frac{(x - x_0)^k}{k!} = \\sum_{k \\in \\mathbb{N}} \\xi_k \\theta_k(x)\n",
    "$$\n",
    "\n",
    "where $\\theta_k(x) = x^k$.\n",
    "\n",
    "The advantage of Taylor series is that we can **describe $f(\\cdot)$ according to its derivatives** --- that is, the way it changes in a small neighborhood.\n",
    "\n",
    "When $k = 1$, we can approximate the function with a linear function.\n"
   ]
  },
  {
   "cell_type": "markdown",
   "metadata": {
    "slideshow": {
     "slide_type": "subslide"
    },
    "tags": []
   },
   "source": [
    "## Cyclical decompositions\n",
    "\n",
    "Alternatively, we can generate any [square-integrable functions](https://en.wikipedia.org/wiki/Square-integrable_function) --- that is, functions with a finite norm --- using the [Fourier series](https://en.wikipedia.org/wiki/Fourier_series):\n",
    "\n",
    "$$\n",
    "\\dot{x} = \\sum_{k \\in \\mathbb{Z}} \\langle f, \\theta_k \\rangle \\, \\theta_k(x) = \\sum_{k \\in \\mathbb{Z}} \\xi_k \\theta_k (x)\n",
    "$$\n",
    "\n",
    "where $\\langle \\cdot \\, , \\, \\cdot \\rangle$ is the inner product of two functions and $\\theta_k(x) = e^{ikx}$.\n",
    "\n",
    "The Fourier series allow us to describe **changes in terms of cycles**.\n",
    "\n",
    "The lower the $k$, the lower the frequency of the cycle."
   ]
  },
  {
   "cell_type": "markdown",
   "metadata": {
    "slideshow": {
     "slide_type": "subslide"
    },
    "tags": []
   },
   "source": [
    "## Basis functions\n",
    "\n",
    "Ok, so now that we have at least three general methods for generating arbitrary functions that respect different but general assumptions.\n",
    "\n",
    "**It should be easy to discover laws from data**.\n",
    "\n",
    "Let our **observations** $X$, the dictionary of **basis functions** $\\Theta(\\cdot)$ and the **coefficient matrix** $\\Xi$: \n",
    "\n",
    "$$\n",
    "X = \\begin{pmatrix}\n",
    "& \\dots &  \\\\ \n",
    "& x(t)^\\top & \\\\\n",
    "& \\dots &\n",
    "\\end{pmatrix}\n",
    "\\,\\text{,}\\quad\n",
    "\\Theta (\\cdot) = \\begin{pmatrix}\n",
    "\\vdots & \\vdots & \\vdots & \\vdots \\\\ \n",
    "1 & \\theta_1(\\cdot) & \\dots & \\theta_K(\\cdot) \\\\\n",
    "\\vdots & \\vdots & \\vdots & \\vdots\n",
    "\\end{pmatrix}\n",
    "\\,\\text{,}\\quad\n",
    "\\Xi (\\cdot) = \\begin{pmatrix}\n",
    "\\vdots & \\vdots & \\vdots & \\vdots \\\\ \n",
    "\\xi_0 & \\xi_1 & \\dots & \\xi_N \\\\\n",
    "\\vdots & \\vdots & \\vdots & \\vdots\n",
    "\\end{pmatrix}\n",
    "$$\n",
    "\n",
    "In many cases, the number of basis function $K$ is proportional to the maximum dimension $D$ of the basis functions, such that $K \\propto D^N$ \n",
    "\n",
    "The dynamical problem can thus be **reformulated** as:\n",
    "\n",
    "$$\n",
    "\\underbrace{\\dot{X}}_{\\scriptscriptstyle{T \\times N}} = \\underbrace{\\Theta(X)}_{\\scriptscriptstyle{T \\times K}} \\, \\underbrace{\\Xi}_{\\scriptscriptstyle{K \\times N}}\n",
    "$$"
   ]
  },
  {
   "cell_type": "markdown",
   "metadata": {
    "slideshow": {
     "slide_type": "subslide"
    },
    "tags": []
   },
   "source": [
    "## Sparse Identification of Nonlinear Dynamics (SINDy)\n",
    "\n",
    "A linear regression can help us to find the parameters that best fit the data. Add some regularization parameters to optimize sparsity:\n",
    "\n",
    "$$\n",
    "\\hat{\\Xi} = \\underset{\\mathrm{\\Xi}}{argmin} \\, || \\dot{X} - \\Theta(X) \\, \\Xi ||_2 + \\lambda || \\Xi ||_1\n",
    "$$\n",
    "\n",
    "In **theory**, if $T >> K N$, our system is identifiable.\n",
    "\n",
    "In **practice**, there are number of problems:\n",
    "\n",
    "1. Numerical errors in the computation of $\\dot{X}$\n",
    "\n",
    "2. The number of states $N$ might be prohibitively large\n",
    "\n",
    "3. Curse of dimensionality: number of basis functions grows arbitrarily large as $D^N$\n",
    "\n",
    "See **Brunton (2016)** for more details."
   ]
  },
  {
   "cell_type": "markdown",
   "metadata": {
    "slideshow": {
     "slide_type": "subslide"
    },
    "tags": []
   },
   "source": [
    "## From generic functions to black boxes\n",
    "\n",
    "Besides dictionary methods, are there other ways?\n",
    "\n",
    "This is where **neural networks (NN)** enter the picture --- arguments are borrowed from [Chris Rackauckas](https://mitmath.github.io/18337/lecture3/sciml.html):\n",
    "\n",
    "1. the **Universal Approximation Theorem (UAT)** states that NN can approximate most well-behaved functions with any degree of precision which is controlled by the depth of the network (see Kratsios 2021);\n",
    "\n",
    "2. **NN overcome the curse of dimensionality**, the approximation of a function of dimension $D$ only needs a polynomial number of parameters $D^C$ rather than $D^N$ where $C$ is a constant (see Grohs 2019);\n",
    "\n",
    "3. NN allows the **enforcement of many arbitrary constraints** via activation functions;\n",
    "\n",
    "4. **NN are isotropic**, they are naturally non-aligned to a basis;\n",
    "\n",
    "5. local optimization of NN are **more likely to reach global minimum** (see Lacotte 2020)\n",
    "\n",
    "\n"
   ]
  },
  {
   "cell_type": "markdown",
   "metadata": {
    "slideshow": {
     "slide_type": "subslide"
    },
    "tags": []
   },
   "source": [
    "## Why don't we just approximate x(t) with NN?\n",
    "\n",
    "At the end of the day, NN are universal approximators and most of the arguments should apply when approximating:\n",
    "\n",
    "$$\n",
    "x = x(t; x_0) \\approx NN(t; x_0)\n",
    "$$\n",
    "\n",
    "Most ODE problems do not have **analytical solution** and **are naturally expressed in terms of rates of change**.\n",
    "\n",
    "We build from previous knowledge, NN are only used to describe the **unknown dynamics of our model**\n",
    "\n",
    "\"*...the well-known adage \"a picture is worth a thousand words\" might well be \"a model is worth a thousand datasets\"*\"<br/>\n",
    "Rackauckas 2020"
   ]
  },
  {
   "cell_type": "markdown",
   "metadata": {
    "slideshow": {
     "slide_type": "subslide"
    },
    "tags": []
   },
   "source": [
    "## What about stochastic models?\n",
    "\n",
    "\n",
    "<div style=\"display: flex; align-items: center;\">\n",
    "<div style=\"flex: 0 0 250px; align-items: center; margin-right: 10px; \">\n",
    "<img src=\"./assets/coin-flip.png\">\n",
    "</div>\n",
    "<div>\n",
    "<p>Many scientific problems are expressed in terms of <b>random events</b>.\n",
    "<p>The <a href=\"https://www.youtube.com/watch?v=AYnJv68T3MM\">flip of a coin</a> can be modelled as a complex dynamical system or as a simple Bernouilli distribution.\n",
    "<p>Although there are distinct basins of attraction --- more on that later ---, <b>sensitivity to and uncertainty about initial conditions</b> means that the motion can be described as a random process in practice (Diaconis 2007, Strzałko 2008).\n",
    "<p>However, in <b>complex scenarios</b> the description of attractors and the distribution of initial states is not easy to observe.\n",
    "<p>Tools to analyse <b>ODE systems</b> allow us to describe and characterize basins of attraction and the attractors themselves.\n",
    "</div>\n",
    "</div>"
   ]
  },
  {
   "cell_type": "markdown",
   "metadata": {
    "slideshow": {
     "slide_type": "subslide"
    },
    "tags": []
   },
   "source": [
    "## Describing nature with models\n",
    "\n",
    "<p>\"*It is not sufficient for each elementary phenomenon to obey simple laws, all those to be combined must obey the same law as well.*\"<br/>Poincaré 1902\n",
    "\n",
    "A lot ingenuity and observation is required to develop models that are both **consistent with reality and existing theory**.\n",
    "\n",
    "Scientific machine learning is a **set of tools for automated model discovery** to support the development of models from data.\n",
    "    \n",
    "<div style=\"display: flex;\">\n",
    "<div style=\"flex: 0 0 250px;\">\n",
    "<img src=\"./assets/khun.png\" style=\"height: 150px;\">\n",
    "</div>\n",
    "<div style=\"display: flex; align-items: center;\">\n",
    "<p>According to Thomas Khun, science is a combination of <b>marginal revolutions and paradigm shifts</b>.\n",
    "</div>\n",
    "</div>"
   ]
  },
  {
   "cell_type": "markdown",
   "metadata": {
    "slideshow": {
     "slide_type": "slide"
    }
   },
   "source": [
    "# Julia\n",
    "\n",
    "**Into to the language and ecosystem**"
   ]
  },
  {
   "cell_type": "markdown",
   "metadata": {
    "slideshow": {
     "slide_type": "subslide"
    },
    "tags": []
   },
   "source": [
    "## The <img src=\"./assets/julia-logo.svg\" style=\"display: inline; vertical-align: text-top; width: 36pt; \"></img> programming language\n",
    "\n",
    "**Fast** designed for high-performance, just-in-time (JIT) compiled code.\n",
    "\n",
    "**Reproducible environment** `Project.toml` and `Manifest.toml`, such as the ones in this course, contains all the instructions to reproduce the environment.\n",
    "\n",
    "**General** from data-wrangling through data-analytics to data-reporting.\n",
    "\n",
    "**Dynamic**, feels like Python.\n",
    "\n",
    "**Composable**, not quite like Python. Multiple dispatch as a paradigm and functional programming.\n",
    "\n",
    "**Open source** MIT license and active developer community in the scientific machine learning field.\n",
    "\n",
    "Visit [Julia's](https://julialang.org) website to get started. \n",
    "\n",
    "Check [Julia discourse](https://discourse.julialang.org/) to look for help, a lot of community interaction takes place in there."
   ]
  },
  {
   "cell_type": "markdown",
   "metadata": {
    "slideshow": {
     "slide_type": "subslide"
    },
    "tags": []
   },
   "source": [
    "## The quality of the language is reflected in the quality of packages\n",
    "\n",
    "No other language can achieve the combination of **performance**, **mathematical notation** and **composition** that Julia provides:\n",
    "\n",
    "* Differential Equations: [DifferentialEquations.jl](https://diffeq.sciml.ai/)\n",
    "\n",
    "* Function approximation and manipulation: [JuMP.jl](https://jump.dev/), [ApproxFun.jl](https://juliaapproximation.github.io/ApproxFun.jl/)\n",
    "\n",
    "* Interval constraint programming and rigorous root finding: [IntervalRootFinding](https://juliaintervals.github.io/pages/packages/intervalrootfinding/)\n",
    "\n",
    "* GPUs: [CuArrays.jl](https://juliagpu.org/cuda/)\n",
    "\n",
    "* Linear algebra for large-systems:[BlockBandedMatrices.jl](https://juliamatrices.github.io/BlockBandedMatrices.jl/stable/), [InfiniteLinearAlgebra.jl](https://github.com/JuliaMatrices/InfiniteLinearAlgebra.jl)\n",
    "\n",
    "* Automatic differentiation: [Zygote.jl](https://fluxml.ai/Zygote.jl/), [ForwarDiff.jl](https://juliadiff.org/ForwardDiff.jl/)\n",
    "\n",
    "* Neural networks: [Flux.jl](https://github.com/FluxML/Flux.jl)\n",
    "\n",
    "On top of that, **most of Julia is written in Julia**. No C, C++ or Fortran, just Julia.\n"
   ]
  },
  {
   "cell_type": "markdown",
   "metadata": {
    "slideshow": {
     "slide_type": "subslide"
    },
    "tags": []
   },
   "source": [
    "## Installation\n",
    "\n",
    "To follow the course, make sure to install the latest stable version of `Julia` from its [official page](https://julialang.org/downloads/). \n",
    "\n",
    "Then, clone this repository:\n",
    "\n",
    "```\n",
    "> git clone git@github.com:gzagatti/phdteachphd-sciml.git\n",
    "```\n",
    "\n",
    "After downloading the repository, activate its Julia environment and install its dependencies:\n",
    "\n",
    "```\n",
    "> cd phdteachphd-sciml/\n",
    "> julia\n",
    "               _\n",
    "   _       _ _(_)_     |  Documentation: https://docs.julialang.org\n",
    "  (_)     | (_) (_)    |\n",
    "   _ _   _| |_  __ _   |  Type \"?\" for help, \"]?\" for Pkg help.\n",
    "  | | | | | | |/ _` |  |\n",
    "  | | |_| | | | (_| |  |  Version 1.6.1 (2021-04-23)\n",
    " _/ |\\__'_|_|_|\\__'_|  |  Official https://julialang.org/ release\n",
    "|__/                   |\n",
    "\n",
    "julia> ]\n",
    "(@v1.6) pkg> activate .\n",
    "  Activating environment at `./phdteachphd-sciml/Project.toml`\n",
    "(@v1.6) pkg> instantiate\n",
    "  Resolving package versions...\n",
    "  ...\n",
    "```\n"
   ]
  },
  {
   "cell_type": "markdown",
   "metadata": {
    "slideshow": {
     "slide_type": "subslide"
    },
    "tags": []
   },
   "source": [
    "## Interacting with Julia\n",
    "\n",
    "<div style=\"display: flex; align-items: center;\">\n",
    "<div style=\"display: flex; margin-right: 10px;\">\n",
    "<ol>\n",
    "<li>as a scripting language <pre><code>> julia my-code.jl</code></pre></li>\n",
    "<li>from the terminal using the built-in REPL <pre><code>julia> 1 + 1</code></pre></li>\n",
    "<li>from a Jupyter notebook using <code>IJulia</code> <pre><code>julia> using IJulia; jupyterlab();</code></pre></li>\n",
    "<li>from <a href=\"https://www.julia-vscode.org/\">Julia for VSCode</a> a powerful IDE for interactive computing similar to Rstudio, check <a href=\"https://www.youtube.com/watch?v=IdhnP00Y1Ks\">its presentation</a> for more details.</li>\n",
    "</ol>\n",
    "</div>\n",
    "<div style=\"flex: 0 0 350px;\">\n",
    "<img src=\"./assets/vscode.png\" style=\"width: 350px;\">\n",
    "</div>\n",
    "</div>"
   ]
  },
  {
   "cell_type": "markdown",
   "metadata": {
    "slideshow": {
     "slide_type": "subslide"
    },
    "tags": []
   },
   "source": [
    "## Paralellism\n",
    "\n",
    "Ensure that Julia is started with **multi-thread support** to take advantage of this feature, either:\n",
    "\n",
    "* modify the environment `export JULIA_NUM_THREADS=4` before starting `julia` or `jupyter lab` --- in case you are using Jupyter notebook\n",
    "* use the flag `-t` when starting Julia, `julia -t 4`"
   ]
  },
  {
   "cell_type": "code",
   "execution_count": 1,
   "metadata": {},
   "outputs": [
    {
     "data": {
      "text/plain": [
       "4"
      ]
     },
     "execution_count": 1,
     "metadata": {},
     "output_type": "execute_result"
    }
   ],
   "source": [
    "using Base.Threads\n",
    "Threads.nthreads()"
   ]
  },
  {
   "cell_type": "markdown",
   "metadata": {
    "slideshow": {
     "slide_type": "subslide"
    },
    "tags": []
   },
   "source": [
    "## Ecosystem\n",
    "\n",
    "Julia comes with a built-in package manager, which means it is much easier to manage dependencies and avoid duplicating cached pre-compiled libraries.\n",
    "\n",
    "Check for packages in [Julia Packages](https://juliapackages.com/) or in [JuliaHub](https://juliahub.com/ui/Packages). Learn more about the community behind Julia Packages by browsing [Julia GitHub Groups](https://julialang.org/community/organizations/).\n",
    "\n",
    "All Julia configuration and installed packages are installed in `~/.julia`.\n",
    "\n",
    "From the CLI, the package manager can be accessed by typing `]`\n",
    "\n",
    "```\n",
    "julia> ]\n",
    "(@v1.6) pkg> activate MyPackage # activate the environment described in MyPackage\n",
    "(@v1.6) pkg> add ExternalPackage # add external packages\n",
    "(@v1.6) pkg> status # check the status of packages installed in the environment\n",
    "```"
   ]
  },
  {
   "cell_type": "markdown",
   "metadata": {
    "slideshow": {
     "slide_type": "subslide"
    },
    "tags": []
   },
   "source": [
    "Alternatively, use the `Package` module."
   ]
  },
  {
   "cell_type": "code",
   "execution_count": 81,
   "metadata": {},
   "outputs": [
    {
     "name": "stdout",
     "output_type": "stream",
     "text": [
      "\u001b[36m\u001b[1m     Project\u001b[22m\u001b[39m PhDTeachPhD v0.1.0\n",
      "\u001b[32m\u001b[1m      Status\u001b[22m\u001b[39m `~/phd/phdteachphd-sciml/Project.toml`\n",
      " \u001b[90m [6e4b80f9] \u001b[39m\u001b[37mBenchmarkTools v1.0.0\u001b[39m\n",
      " \u001b[90m [aae7a2af] \u001b[39m\u001b[37mDiffEqFlux v1.37.0\u001b[39m\n",
      " \u001b[90m [0c46a032] \u001b[39m\u001b[37mDifferentialEquations v6.17.1\u001b[39m\n",
      " \u001b[90m [6a86dc24] \u001b[39m\u001b[37mFiniteDiff v2.8.0\u001b[39m\n",
      " \u001b[90m [587475ba] \u001b[39m\u001b[37mFlux v0.12.4\u001b[39m\n",
      " \u001b[90m [f6369f11] \u001b[39m\u001b[37mForwardDiff v0.10.18\u001b[39m\n",
      " \u001b[90m [7073ff75] \u001b[39m\u001b[37mIJulia v1.23.2\u001b[39m\n",
      " \u001b[90m [429524aa] \u001b[39m\u001b[37mOptim v1.3.0\u001b[39m\n",
      " \u001b[90m [91a5bcdd] \u001b[39m\u001b[37mPlots v1.16.5\u001b[39m\n",
      " \u001b[90m [37e2e46d] \u001b[39m\u001b[37mLinearAlgebra\u001b[39m\n"
     ]
    }
   ],
   "source": [
    "import Pkg\n",
    "Pkg.DEFAULT_IO[] = stdout # only needed in Jupyter, before v1.6.2 comes out\n",
    "Pkg.status()"
   ]
  },
  {
   "cell_type": "markdown",
   "metadata": {
    "slideshow": {
     "slide_type": "subslide"
    },
    "tags": []
   },
   "source": [
    "## The anatomy of a package\n",
    "\n",
    "Modules are usually packaged as following.\n",
    "\n",
    "```\n",
    "MyFirstModule.jl\n",
    "├── docs/\n",
    "│   ├── src/\n",
    "│   ├── Project.toml\n",
    "│   └── make.jl\n",
    "├── src/\n",
    "│   ├── MyFirstModule.jl\n",
    "│   └── ...\n",
    "├── test/\n",
    "│   ├── runtests.jl\n",
    "│   └── ...\n",
    "├── Project.toml\n",
    "├── Manifest.toml\n",
    "└── README.md\n",
    "```\n",
    "\n",
    "When looking at source code, a good idea is to start from `src/MyFirstModule.jl` to understand **what are the dependencies**, **which files are included** and **which names are exported**.\n",
    "\n",
    "To learn more about packages, check [Chris Rackauckas video](https://www.youtube.com/watch?v=-lJK92bEKow)."
   ]
  },
  {
   "cell_type": "markdown",
   "metadata": {
    "slideshow": {
     "slide_type": "subslide"
    },
    "tags": []
   },
   "source": [
    "## The anatomy of a module\n",
    "\n",
    "Modules help to organize code into coherent units.\n",
    "\n",
    "Although rarely done, we can also define the module in the current scope as done here for teaching purposes."
   ]
  },
  {
   "cell_type": "code",
   "execution_count": 3,
   "metadata": {},
   "outputs": [],
   "source": [
    "module MyFirstModule\n",
    "\n",
    "# we can import functions defined elsewhere, they will be bound to the module's scope\n",
    "using Statistics\n",
    "\n",
    "# adds code from other files, this how you put everything together in your module\n",
    "include(\"example.jl\")\n",
    "\n",
    "# we can also define functions and constants in the declaration file, but this is less common\n",
    "const MyFirstConstant = 42\n",
    "\n",
    "function random_average(n)\n",
    "    mean(rand(n))\n",
    "end\n",
    "\n",
    "# functions and constants can be exported\n",
    "export MyFirstConstant, hello, random_average\n",
    "\n",
    "end;"
   ]
  },
  {
   "cell_type": "markdown",
   "metadata": {
    "slideshow": {
     "slide_type": "subslide"
    },
    "tags": []
   },
   "source": [
    "## Using modules"
   ]
  },
  {
   "cell_type": "markdown",
   "metadata": {},
   "source": [
    "There are two ways of adding modules to the local scope.\n",
    "\n",
    "Either with `using`, in which case all names that are exported from the module are added to the local namespace."
   ]
  },
  {
   "cell_type": "code",
   "execution_count": 4,
   "metadata": {},
   "outputs": [
    {
     "data": {
      "text/plain": [
       "0.41226147834060123"
      ]
     },
     "execution_count": 4,
     "metadata": {},
     "output_type": "execute_result"
    }
   ],
   "source": [
    "using Statistics\n",
    "\n",
    "mean(rand(10))"
   ]
  },
  {
   "cell_type": "markdown",
   "metadata": {
    "slideshow": {
     "slide_type": "subslide"
    },
    "tags": []
   },
   "source": [
    "Or with `import`, in which case only the module name is brought into scope. Users need to prepend the module name to access its definitions."
   ]
  },
  {
   "cell_type": "code",
   "execution_count": 5,
   "metadata": {},
   "outputs": [
    {
     "name": "stdout",
     "output_type": "stream",
     "text": [
      "Hello, class!\n",
      "What's the meaning of life? 42. \n",
      "Tell me joke: 0.46651402590700297.\n",
      "\n"
     ]
    }
   ],
   "source": [
    "# we append `Main` as the module is defined in the current scope\n",
    "import Main.MyFirstModule\n",
    "\n",
    "println(\"\"\"\n",
    "$(MyFirstModule.hello(\"class\"))\n",
    "What's the meaning of life? $(MyFirstModule.MyFirstConstant). \n",
    "Tell me joke: $(MyFirstModule.random_average(10)).\n",
    "\"\"\")"
   ]
  },
  {
   "cell_type": "markdown",
   "metadata": {
    "slideshow": {
     "slide_type": "subslide"
    },
    "tags": []
   },
   "source": [
    "## Looking for help\n",
    "\n",
    "Don't forget Julia is about multiple dispatching."
   ]
  },
  {
   "cell_type": "code",
   "execution_count": 6,
   "metadata": {},
   "outputs": [
    {
     "data": {
      "text/latex": [
       "\\begin{verbatim}\n",
       "hello(world)\n",
       "\\end{verbatim}\n",
       "Prints a welcome message.\n",
       "\n"
      ],
      "text/markdown": [
       "```\n",
       "hello(world)\n",
       "```\n",
       "\n",
       "Prints a welcome message.\n"
      ],
      "text/plain": [
       "\u001b[36m  hello(world)\u001b[39m\n",
       "\n",
       "  Prints a welcome message."
      ]
     },
     "execution_count": 6,
     "metadata": {},
     "output_type": "execute_result"
    }
   ],
   "source": [
    "? MyFirstModule.hello"
   ]
  },
  {
   "cell_type": "code",
   "execution_count": 7,
   "metadata": {},
   "outputs": [
    {
     "data": {
      "text/plain": [
       "\"Hello, don't be fooled 4!\""
      ]
     },
     "execution_count": 7,
     "metadata": {},
     "output_type": "execute_result"
    }
   ],
   "source": [
    "MyFirstModule.hello(2)"
   ]
  },
  {
   "cell_type": "code",
   "execution_count": 8,
   "metadata": {},
   "outputs": [
    {
     "data": {
      "text/html": [
       "hello(n::<b>Number</b>) in Main.MyFirstModule at <a href=\"https://github.com/gzagatti/phdteachphd-sciml/tree/2770cd430ce0efe2724e135af4262ccc4afcbf43//docs/example.jl#L8\" target=\"_blank\">/home/gzagatti/phd/phdteachphd-sciml/docs/example.jl:8</a>"
      ],
      "text/plain": [
       "hello(n::Number) in Main.MyFirstModule at /home/gzagatti/phd/phdteachphd-sciml/docs/example.jl:8"
      ]
     },
     "execution_count": 8,
     "metadata": {},
     "output_type": "execute_result"
    }
   ],
   "source": [
    "@which MyFirstModule.hello(2)"
   ]
  },
  {
   "cell_type": "code",
   "execution_count": 9,
   "metadata": {
    "slideshow": {
     "slide_type": "subslide"
    },
    "tags": []
   },
   "outputs": [
    {
     "data": {
      "text/html": [
       "# 2 methods for generic function <b>hello</b>:<ul><li> hello(n::<b>Number</b>) in Main.MyFirstModule at <a href=\"https://github.com/gzagatti/phdteachphd-sciml/tree/2770cd430ce0efe2724e135af4262ccc4afcbf43//docs/example.jl#L8\" target=\"_blank\">/home/gzagatti/phd/phdteachphd-sciml/docs/example.jl:8</a></li> <li> hello(world) in Main.MyFirstModule at <a href=\"https://github.com/gzagatti/phdteachphd-sciml/tree/2770cd430ce0efe2724e135af4262ccc4afcbf43//docs/example.jl#L6\" target=\"_blank\">/home/gzagatti/phd/phdteachphd-sciml/docs/example.jl:6</a></li> </ul>"
      ],
      "text/plain": [
       "# 2 methods for generic function \"hello\":\n",
       "[1] hello(n::Number) in Main.MyFirstModule at /home/gzagatti/phd/phdteachphd-sciml/docs/example.jl:8\n",
       "[2] hello(world) in Main.MyFirstModule at /home/gzagatti/phd/phdteachphd-sciml/docs/example.jl:6"
      ]
     },
     "execution_count": 9,
     "metadata": {},
     "output_type": "execute_result"
    }
   ],
   "source": [
    "methods(MyFirstModule.hello)"
   ]
  },
  {
   "cell_type": "code",
   "execution_count": 83,
   "metadata": {
    "tags": []
   },
   "outputs": [
    {
     "name": "stdout",
     "output_type": "stream",
     "text": [
      "\"\"\"\n",
      "    hello(world)\n",
      "\n",
      "Prints a welcome message.\n",
      "\"\"\"\n",
      "hello(world) = \"Hello, $(world)!\"\n",
      "\n",
      "hello(n::Number) = \"Hello, don't be fooled $(n*2)!\"\n"
     ]
    }
   ],
   "source": [
    "# will print the file where the called function is declared\n",
    "# see @edit alternatively\n",
    "@less MyFirstModule.hello(\"class\")"
   ]
  },
  {
   "cell_type": "markdown",
   "metadata": {
    "slideshow": {
     "slide_type": "subslide"
    },
    "tags": []
   },
   "source": [
    "## Arrays"
   ]
  },
  {
   "cell_type": "code",
   "execution_count": 84,
   "metadata": {},
   "outputs": [
    {
     "data": {
      "text/plain": [
       "3-element Vector{Int64}:\n",
       " 1\n",
       " 2\n",
       " 3"
      ]
     },
     "execution_count": 84,
     "metadata": {},
     "output_type": "execute_result"
    }
   ],
   "source": [
    "b = [\n",
    "    1\n",
    "    2\n",
    "    3\n",
    "] # column vector"
   ]
  },
  {
   "cell_type": "code",
   "execution_count": 85,
   "metadata": {},
   "outputs": [
    {
     "data": {
      "text/plain": [
       "3-element Vector{Int64}:\n",
       " 1\n",
       " 2\n",
       " 3"
      ]
     },
     "execution_count": 85,
     "metadata": {},
     "output_type": "execute_result"
    }
   ],
   "source": [
    "b = [1; 2; 3] # to avoid line breaks you can use `;`"
   ]
  },
  {
   "cell_type": "code",
   "execution_count": 13,
   "metadata": {
    "slideshow": {
     "slide_type": "subslide"
    },
    "tags": []
   },
   "outputs": [
    {
     "data": {
      "text/plain": [
       "1"
      ]
     },
     "execution_count": 13,
     "metadata": {},
     "output_type": "execute_result"
    }
   ],
   "source": [
    "b[1] # the index start at 1"
   ]
  },
  {
   "cell_type": "code",
   "execution_count": 14,
   "metadata": {},
   "outputs": [
    {
     "ename": "LoadError",
     "evalue": "BoundsError: attempt to access 5-element Vector{Int64} at index [0]",
     "output_type": "error",
     "traceback": [
      "BoundsError: attempt to access 5-element Vector{Int64} at index [0]",
      "",
      "Stacktrace:",
      " [1] getindex(A::Vector{Int64}, i1::Int64)",
      "   @ Base ./array.jl:801",
      " [2] top-level scope",
      "   @ In[14]:1",
      " [3] eval",
      "   @ ./boot.jl:360 [inlined]",
      " [4] include_string(mapexpr::typeof(REPL.softscope), mod::Module, code::String, filename::String)",
      "   @ Base ./loading.jl:1094"
     ]
    }
   ],
   "source": [
    "b[0] # this will not work"
   ]
  },
  {
   "cell_type": "code",
   "execution_count": 86,
   "metadata": {
    "slideshow": {
     "slide_type": "subslide"
    },
    "tags": []
   },
   "outputs": [
    {
     "data": {
      "text/plain": [
       "3-element Vector{Float64}:\n",
       " 5.0\n",
       " 5.0\n",
       " 5.0"
      ]
     },
     "execution_count": 86,
     "metadata": {},
     "output_type": "execute_result"
    }
   ],
   "source": [
    "b = Vector{Float64}(undef, 3) # initialize a vector with 3 elements\n",
    "b[1] = b[2] = b[3] = 5\n",
    "b"
   ]
  },
  {
   "cell_type": "code",
   "execution_count": 16,
   "metadata": {},
   "outputs": [
    {
     "data": {
      "text/plain": [
       "1×5 Matrix{Int64}:\n",
       " 1  2  3  4  5"
      ]
     },
     "execution_count": 16,
     "metadata": {},
     "output_type": "execute_result"
    }
   ],
   "source": [
    "b = [1 2 3 4 5] # row vector, row vectors considered matrices"
   ]
  },
  {
   "cell_type": "code",
   "execution_count": 17,
   "metadata": {},
   "outputs": [
    {
     "data": {
      "text/plain": [
       "1×5 Matrix{Int64}:\n",
       " 0  1  140294007968512  4  1"
      ]
     },
     "execution_count": 17,
     "metadata": {},
     "output_type": "execute_result"
    }
   ],
   "source": [
    "a = similar(b) # we can start a vector of the same type as b with undefined values"
   ]
  },
  {
   "cell_type": "code",
   "execution_count": 18,
   "metadata": {
    "slideshow": {
     "slide_type": "subslide"
    },
    "tags": []
   },
   "outputs": [
    {
     "data": {
      "text/plain": [
       "5×5 Matrix{Int64}:\n",
       " 1  1  1  1  1\n",
       " 2  2  2  2  2\n",
       " 3  3  3  3  3\n",
       " 4  4  4  4  4\n",
       " 5  5  5  5  5"
      ]
     },
     "execution_count": 18,
     "metadata": {},
     "output_type": "execute_result"
    }
   ],
   "source": [
    "A = [\n",
    "    1 1 1 1 1\n",
    "    2 2 2 2 2\n",
    "    3 3 3 3 3\n",
    "    4 4 4 4 4\n",
    "    5 5 5 5 5\n",
    "] # define a matrix"
   ]
  },
  {
   "cell_type": "code",
   "execution_count": 19,
   "metadata": {},
   "outputs": [
    {
     "data": {
      "text/plain": [
       "7"
      ]
     },
     "execution_count": 19,
     "metadata": {},
     "output_type": "execute_result"
    }
   ],
   "source": [
    "A[2, 3] = 7 # change element of matrix"
   ]
  },
  {
   "cell_type": "code",
   "execution_count": 20,
   "metadata": {
    "slideshow": {
     "slide_type": "subslide"
    },
    "tags": []
   },
   "outputs": [
    {
     "ename": "LoadError",
     "evalue": "InexactError: Int64(7.2)",
     "output_type": "error",
     "traceback": [
      "InexactError: Int64(7.2)",
      "",
      "Stacktrace:",
      " [1] Int64",
      "   @ ./float.jl:723 [inlined]",
      " [2] convert",
      "   @ ./number.jl:7 [inlined]",
      " [3] setindex!(::Matrix{Int64}, ::Float64, ::Int64, ::Int64)",
      "   @ Base ./array.jl:841",
      " [4] top-level scope",
      "   @ In[20]:1",
      " [5] eval",
      "   @ ./boot.jl:360 [inlined]",
      " [6] include_string(mapexpr::typeof(REPL.softscope), mod::Module, code::String, filename::String)",
      "   @ Base ./loading.jl:1094"
     ]
    }
   ],
   "source": [
    "A[4, 5] = 7.2 # we cannot insert Floats to an integer matrix "
   ]
  },
  {
   "cell_type": "code",
   "execution_count": 21,
   "metadata": {},
   "outputs": [
    {
     "data": {
      "text/plain": [
       "5×5 Matrix{Float64}:\n",
       " 6.93137e-310  6.93137e-310  6.93137e-310  6.93137e-310  6.93137e-310\n",
       " 6.93137e-310  6.93137e-310  6.93137e-310  6.93137e-310  6.93137e-310\n",
       " 6.93137e-310  6.93137e-310  6.93137e-310  6.93137e-310  6.93137e-310\n",
       " 6.93137e-310  6.93137e-310  6.93137e-310  6.93137e-310  6.93137e-310\n",
       " 6.93137e-310  6.93137e-310  6.93137e-310  6.93137e-310  6.93137e-310"
      ]
     },
     "execution_count": 21,
     "metadata": {},
     "output_type": "execute_result"
    }
   ],
   "source": [
    "A = Matrix{Float64}(undef, 5, 5) # another way to initialize a matrix"
   ]
  },
  {
   "cell_type": "code",
   "execution_count": 22,
   "metadata": {
    "slideshow": {
     "slide_type": "subslide"
    },
    "tags": []
   },
   "outputs": [
    {
     "data": {
      "text/plain": [
       "5×5 Matrix{Float64}:\n",
       " 0.471852  0.00901112   0.817024  0.541949   0.38184\n",
       " 0.367064  0.113517     0.572653  0.164718   0.289108\n",
       " 0.597985  0.0417505    0.796713  0.217953   0.161311\n",
       " 0.554584  0.112756     0.260227  0.0406933  0.550129\n",
       " 0.722082  0.000207122  0.864368  0.740878   0.360224"
      ]
     },
     "execution_count": 22,
     "metadata": {},
     "output_type": "execute_result"
    }
   ],
   "source": [
    "A[:] = rand(5, 5)"
   ]
  },
  {
   "cell_type": "code",
   "execution_count": 23,
   "metadata": {},
   "outputs": [
    {
     "data": {
      "text/plain": [
       "5-element view(::Matrix{Float64}, 4, :) with eltype Float64:\n",
       " 0.5545837167079448\n",
       " 0.11275579041769235\n",
       " 0.2602273328162765\n",
       " 0.040693320492557694\n",
       " 0.5501291545569911"
      ]
     },
     "execution_count": 23,
     "metadata": {},
     "output_type": "execute_result"
    }
   ],
   "source": [
    "a = @view A[4, :] # create a pointer to the 4th row"
   ]
  },
  {
   "cell_type": "code",
   "execution_count": 24,
   "metadata": {
    "slideshow": {
     "slide_type": "subslide"
    },
    "tags": []
   },
   "outputs": [
    {
     "data": {
      "text/plain": [
       "5×5 Matrix{Float64}:\n",
       " 0.471852  0.00901112   0.817024  0.541949  0.38184\n",
       " 0.367064  0.113517     0.572653  0.164718  0.289108\n",
       " 0.597985  0.0417505    0.796713  0.217953  0.161311\n",
       " 1.0       1.0          1.0       1.0       1.0\n",
       " 0.722082  0.000207122  0.864368  0.740878  0.360224"
      ]
     },
     "execution_count": 24,
     "metadata": {},
     "output_type": "execute_result"
    }
   ],
   "source": [
    "a[1:5] = repeat([1.], 5) # modifications to the pointer will modify the array\n",
    "A"
   ]
  },
  {
   "cell_type": "code",
   "execution_count": 25,
   "metadata": {},
   "outputs": [
    {
     "data": {
      "text/plain": [
       "3-element Vector{Vector{Any}}:\n",
       " [4, 5]\n",
       " [5.0, 7.0, 9.0]\n",
       " [0.1648178569034804]"
      ]
     },
     "execution_count": 25,
     "metadata": {},
     "output_type": "execute_result"
    }
   ],
   "source": [
    "v = Vector{Vector{Any}}(undef, 3) # we can also have array of arrays\n",
    "v[1] = [4, 5]\n",
    "v[2] = [5., 7., 9.]\n",
    "v[3] = rand(1)\n",
    "v"
   ]
  },
  {
   "cell_type": "markdown",
   "metadata": {
    "slideshow": {
     "slide_type": "subslide"
    },
    "tags": []
   },
   "source": [
    "## Operations on arrays"
   ]
  },
  {
   "cell_type": "code",
   "execution_count": 26,
   "metadata": {},
   "outputs": [
    {
     "data": {
      "text/plain": [
       "1×5 Matrix{Int64}:\n",
       " 1  4  9  16  25"
      ]
     },
     "execution_count": 26,
     "metadata": {},
     "output_type": "execute_result"
    }
   ],
   "source": [
    "map((x) -> x^2, b) # broadcast a function to all elements in b"
   ]
  },
  {
   "cell_type": "code",
   "execution_count": 27,
   "metadata": {},
   "outputs": [
    {
     "data": {
      "text/plain": [
       "1×5 Matrix{Int64}:\n",
       " 1  4  9  16  25"
      ]
     },
     "execution_count": 27,
     "metadata": {},
     "output_type": "execute_result"
    }
   ],
   "source": [
    "broadcast(^, b, 2) # we can achieve the same result with the broadcast operator"
   ]
  },
  {
   "cell_type": "code",
   "execution_count": 28,
   "metadata": {},
   "outputs": [
    {
     "data": {
      "text/plain": [
       "1×5 Matrix{Int64}:\n",
       " 1  4  9  16  25"
      ]
     },
     "execution_count": 28,
     "metadata": {},
     "output_type": "execute_result"
    }
   ],
   "source": [
    "b.^2 # the dot operator in front of many functions is a shorthand for the broadcast function"
   ]
  },
  {
   "cell_type": "code",
   "execution_count": 29,
   "metadata": {
    "slideshow": {
     "slide_type": "subslide"
    },
    "tags": []
   },
   "outputs": [
    {
     "data": {
      "text/plain": [
       "5×1 Matrix{Float64}:\n",
       "  7.017939857726915\n",
       "  4.4164641441774535\n",
       "  4.749990821829545\n",
       " 15.0\n",
       "  8.080231257941143"
      ]
     },
     "execution_count": 29,
     "metadata": {},
     "output_type": "execute_result"
    }
   ],
   "source": [
    "A*b' # matrix multiplication, notice the `'` operator which indicates the adjoint"
   ]
  },
  {
   "cell_type": "code",
   "execution_count": 30,
   "metadata": {},
   "outputs": [
    {
     "data": {
      "text/plain": [
       "5×5 Matrix{Float64}:\n",
       " 0.471852  0.0180222    2.45107  2.16779   1.9092\n",
       " 0.367064  0.227033     1.71796  0.65887   1.44554\n",
       " 0.597985  0.0835011    2.39014  0.871812  0.806553\n",
       " 1.0       2.0          3.0      4.0       5.0\n",
       " 0.722082  0.000414243  2.5931   2.96351   1.80112"
      ]
     },
     "execution_count": 30,
     "metadata": {},
     "output_type": "execute_result"
    }
   ],
   "source": [
    "A.*b # broadcast multiplication"
   ]
  },
  {
   "cell_type": "code",
   "execution_count": 31,
   "metadata": {
    "slideshow": {
     "slide_type": "subslide"
    },
    "tags": []
   },
   "outputs": [
    {
     "data": {
      "text/plain": [
       "1×5 Matrix{Int64}:\n",
       " 2  2  2  2  2"
      ]
     },
     "execution_count": 31,
     "metadata": {},
     "output_type": "execute_result"
    }
   ],
   "source": [
    "b .= 2 # assignments can also be broadcast"
   ]
  },
  {
   "cell_type": "code",
   "execution_count": 32,
   "metadata": {},
   "outputs": [
    {
     "ename": "LoadError",
     "evalue": "ArgumentError: indexed assignment with a single value to many locations is not supported; perhaps use broadcasting `.=` instead?",
     "output_type": "error",
     "traceback": [
      "ArgumentError: indexed assignment with a single value to many locations is not supported; perhaps use broadcasting `.=` instead?",
      "",
      "Stacktrace:",
      " [1] setindex_shape_check(::Int64, ::Int64)",
      "   @ Base ./indices.jl:261",
      " [2] _unsafe_setindex!(#unused#::IndexLinear, A::Matrix{Int64}, x::Int64, I::Base.Slice{Base.OneTo{Int64}})",
      "   @ Base ./multidimensional.jl:896",
      " [3] _setindex!",
      "   @ ./multidimensional.jl:887 [inlined]",
      " [4] setindex!(A::Matrix{Int64}, v::Int64, I::Function)",
      "   @ Base ./abstractarray.jl:1267",
      " [5] top-level scope",
      "   @ In[32]:1",
      " [6] eval",
      "   @ ./boot.jl:360 [inlined]",
      " [7] include_string(mapexpr::typeof(REPL.softscope), mod::Module, code::String, filename::String)",
      "   @ Base ./loading.jl:1094"
     ]
    }
   ],
   "source": [
    "b[:] = 2 # notice that this won't work"
   ]
  },
  {
   "cell_type": "code",
   "execution_count": 87,
   "metadata": {},
   "outputs": [],
   "source": [
    "b = 2; # and this simply allocates the integer 2 to variable b"
   ]
  },
  {
   "cell_type": "markdown",
   "metadata": {
    "slideshow": {
     "slide_type": "subslide"
    },
    "tags": []
   },
   "source": [
    "## Control flow\n",
    "\n",
    "This is very similar to other languages."
   ]
  },
  {
   "cell_type": "code",
   "execution_count": 88,
   "metadata": {},
   "outputs": [
    {
     "name": "stdout",
     "output_type": "stream",
     "text": [
      "i = 1\n",
      "i = 2\n",
      "this is b = 10\n",
      "this is b = 9\n",
      "this is b = 8\n",
      "this is b = 7\n",
      "Too low."
     ]
    }
   ],
   "source": [
    "for i=1:2\n",
    "    @show i\n",
    "end\n",
    "\n",
    "b = 10\n",
    "while b >= 7\n",
    "    println(\"this is b = $(b)\")\n",
    "    b -= 1\n",
    "end\n",
    "\n",
    "if b > 7\n",
    "    print(\"Too high.\")\n",
    "else\n",
    "    print(\"Too low.\")\n",
    "end"
   ]
  },
  {
   "cell_type": "markdown",
   "metadata": {
    "slideshow": {
     "slide_type": "subslide"
    },
    "tags": []
   },
   "source": [
    "Note that variables defined inside of loops and branches are not available in the calling scope."
   ]
  },
  {
   "cell_type": "code",
   "execution_count": 35,
   "metadata": {},
   "outputs": [
    {
     "name": "stdout",
     "output_type": "stream",
     "text": [
      "i only exist inside of the loop.\n"
     ]
    },
    {
     "ename": "LoadError",
     "evalue": "UndefVarError: t not defined",
     "output_type": "error",
     "traceback": [
      "UndefVarError: t not defined",
      "",
      "Stacktrace:",
      " [1] top-level scope",
      "   @ show.jl:955",
      " [2] eval",
      "   @ ./boot.jl:360 [inlined]",
      " [3] include_string(mapexpr::typeof(REPL.softscope), mod::Module, code::String, filename::String)",
      "   @ Base ./loading.jl:1094"
     ]
    }
   ],
   "source": [
    "for i = 1:2\n",
    "    t = \"i only exist inside of the loop.\"\n",
    "    println(t)\n",
    "    break\n",
    "end\n",
    "@show t"
   ]
  },
  {
   "cell_type": "markdown",
   "metadata": {
    "slideshow": {
     "slide_type": "subslide"
    },
    "tags": []
   },
   "source": [
    "This also aplies to the iterator."
   ]
  },
  {
   "cell_type": "code",
   "execution_count": 36,
   "metadata": {},
   "outputs": [
    {
     "ename": "LoadError",
     "evalue": "UndefVarError: i not defined",
     "output_type": "error",
     "traceback": [
      "UndefVarError: i not defined",
      "",
      "Stacktrace:",
      " [1] top-level scope",
      "   @ show.jl:955",
      " [2] eval",
      "   @ ./boot.jl:360 [inlined]",
      " [3] include_string(mapexpr::typeof(REPL.softscope), mod::Module, code::String, filename::String)",
      "   @ Base ./loading.jl:1094"
     ]
    }
   ],
   "source": [
    "@show i"
   ]
  },
  {
   "cell_type": "markdown",
   "metadata": {},
   "source": [
    "Nested loops are simple."
   ]
  },
  {
   "cell_type": "code",
   "execution_count": 37,
   "metadata": {},
   "outputs": [
    {
     "name": "stdout",
     "output_type": "stream",
     "text": [
      "(i, j) = (1, 2)  (i, j) = (1, 3)  (i, j) = (2, 2)  (i, j) = (2, 3)  "
     ]
    }
   ],
   "source": [
    "for i=1:2, j=2:3  print(\"(i, j) = ($(i), $(j))  \") end"
   ]
  },
  {
   "cell_type": "markdown",
   "metadata": {
    "slideshow": {
     "slide_type": "subslide"
    },
    "tags": []
   },
   "source": [
    "## Functions\n",
    "\n",
    "You can define functions as:"
   ]
  },
  {
   "cell_type": "code",
   "execution_count": 38,
   "metadata": {},
   "outputs": [
    {
     "data": {
      "text/plain": [
       "12"
      ]
     },
     "execution_count": 38,
     "metadata": {},
     "output_type": "execute_result"
    }
   ],
   "source": [
    "f(x) = 2x^2 + 2x # notice that we don't need the * between 2 and x\n",
    "f(2)"
   ]
  },
  {
   "cell_type": "markdown",
   "metadata": {},
   "source": [
    "We can quickly take the derivative our new functions."
   ]
  },
  {
   "cell_type": "code",
   "execution_count": 39,
   "metadata": {},
   "outputs": [
    {
     "data": {
      "text/plain": [
       "10.0"
      ]
     },
     "execution_count": 39,
     "metadata": {},
     "output_type": "execute_result"
    }
   ],
   "source": [
    "using ForwardDiff # for automatic differentiation\n",
    "ForwardDiff.derivative(f, 2.0)"
   ]
  },
  {
   "cell_type": "markdown",
   "metadata": {
    "slideshow": {
     "slide_type": "subslide"
    },
    "tags": []
   },
   "source": [
    "There are alternative syntaxes for function definition. \n",
    "\n",
    "Let's define a function that computes the derivative of our function at any point $x$."
   ]
  },
  {
   "cell_type": "code",
   "execution_count": 40,
   "metadata": {},
   "outputs": [
    {
     "data": {
      "text/plain": [
       "10"
      ]
     },
     "execution_count": 40,
     "metadata": {},
     "output_type": "execute_result"
    }
   ],
   "source": [
    "# notice that in Julia we can use unicode variables\n",
    "# type \\delta and press tab to get the character\n",
    "function δf(x) \n",
    "    ForwardDiff.derivative(f, x)   \n",
    "end\n",
    "δf(2)"
   ]
  },
  {
   "cell_type": "markdown",
   "metadata": {
    "slideshow": {
     "slide_type": "subslide"
    },
    "tags": []
   },
   "source": [
    "Notice that a convention in Julia is to add a bang `!` at the end of functions that modify its parameters. This is a community convention, it is not automatically enforced by the language in any way."
   ]
  },
  {
   "cell_type": "code",
   "execution_count": 41,
   "metadata": {},
   "outputs": [
    {
     "data": {
      "text/plain": [
       "f! (generic function with 1 method)"
      ]
     },
     "execution_count": 41,
     "metadata": {},
     "output_type": "execute_result"
    }
   ],
   "source": [
    "f!(x) = x[2] = 5"
   ]
  },
  {
   "cell_type": "code",
   "execution_count": 42,
   "metadata": {},
   "outputs": [
    {
     "data": {
      "text/plain": [
       "1×4 Matrix{Int64}:\n",
       " 1  5  1  1"
      ]
     },
     "execution_count": 42,
     "metadata": {},
     "output_type": "execute_result"
    }
   ],
   "source": [
    "b = [1 1 1 1]\n",
    "f!(b)\n",
    "b"
   ]
  },
  {
   "cell_type": "markdown",
   "metadata": {
    "slideshow": {
     "slide_type": "subslide"
    },
    "tags": []
   },
   "source": [
    "## Multiple dispatch\n",
    "\n",
    "Let's go back to `MyFirstModule.hello`. \n",
    "\n",
    "We could overload this function with a method that work slightly different for arrays."
   ]
  },
  {
   "cell_type": "code",
   "execution_count": 43,
   "metadata": {},
   "outputs": [
    {
     "name": "stdout",
     "output_type": "stream",
     "text": [
      "Hello, Clara!\n",
      "Hello, don't be fooled 130!\n",
      "Hello, John!\n",
      "Hello, don't be fooled 20!\n"
     ]
    }
   ],
   "source": [
    "MyFirstModule.hello(x::Array) = join([MyFirstModule.hello(i) for i in x], \"\\n\")\n",
    "println(MyFirstModule.hello([\"Clara\", 65, [\"John\", 10]]))"
   ]
  },
  {
   "cell_type": "markdown",
   "metadata": {},
   "source": [
    "Notice how we were able to perform multiple dispatches even inside the function.\n",
    "\n",
    "[If not abused](https://docs.julialang.org/en/v1/manual/performance-tips/#The-dangers-of-abusing-multiple-dispatch-(aka,-more-on-types-with-values-as-parameters), the **overhead incurred by multiple dispatch is minimal**, thus Julia is able to handle a large number of multiple types with a single function call.\n",
    "\n",
    "Good use of multiple dispatch allows you to easily piggback not only on the APIs of [Base Julia](https://docs.julialang.org/en/v1/manual/interfaces/) but also on the large number of good quality packages.\n"
   ]
  },
  {
   "cell_type": "markdown",
   "metadata": {
    "slideshow": {
     "slide_type": "subslide"
    },
    "tags": []
   },
   "source": [
    "## A note about \"vectorization\"\n",
    "\n",
    "The **usual advice in Pythnon is to \"vectorize\" operations** as much as possible and avoid loops.\n",
    "\n",
    "This is because vectorized operations call C programs which are optimized for the \"vectorized\" operation.\n",
    "\n",
    "On the contrary, **in Julia \"vectorization\" does not necessarily improve performance**."
   ]
  },
  {
   "cell_type": "code",
   "execution_count": 44,
   "metadata": {},
   "outputs": [],
   "source": [
    "N = 100\n",
    "A = rand(N, N);\n",
    "B = rand(N, N);"
   ]
  },
  {
   "cell_type": "markdown",
   "metadata": {},
   "source": [
    "We will use one of the main benchamrking framework for Julia to compare the performance of snippets of code both in terms of **memory allocation** and **time**.\n",
    "\n",
    "When in doubt, **this is a quick and effective way to locate bottlenecks** in your code."
   ]
  },
  {
   "cell_type": "code",
   "execution_count": 45,
   "metadata": {},
   "outputs": [],
   "source": [
    "using BenchmarkTools"
   ]
  },
  {
   "cell_type": "markdown",
   "metadata": {
    "slideshow": {
     "slide_type": "subslide"
    },
    "tags": []
   },
   "source": [
    "<div style=\"display: flex; align-items: center;\">\n",
    "<div style=\"flex: 0 0 250px; margin-right: 10px; width: 250px;\">\n",
    "<img src=\"./assets/array-order.png\" style=\"width: 250px;\">\n",
    "</div>\n",
    "<div style=\"display=flex;\">\n",
    "<p>In Julia arrays are column-major.\n",
    "<p>Which means that loops over columns are faster than over rows.\n",
    "</div>\n",
    "</div>"
   ]
  },
  {
   "cell_type": "code",
   "execution_count": 46,
   "metadata": {},
   "outputs": [],
   "source": [
    "A[:] # vectorize the matrix, allow us to visualize the array-order;"
   ]
  },
  {
   "cell_type": "markdown",
   "metadata": {
    "slideshow": {
     "slide_type": "subslide"
    },
    "tags": []
   },
   "source": [
    "Row allocation will be slower than column allocation."
   ]
  },
  {
   "cell_type": "code",
   "execution_count": 47,
   "metadata": {
    "tags": []
   },
   "outputs": [
    {
     "name": "stdout",
     "output_type": "stream",
     "text": [
      "  288.162 ns (2 allocations: 1.75 KiB)\n"
     ]
    }
   ],
   "source": [
    "function modifyC0!(A, B, C, i)\n",
    "    C[i, :] .= A[i, :] .* B[i, :]\n",
    "end\n",
    "@btime modifyC0!($A, $B, C, 2) setup=(C=Array{Float64}(undef, N, N));"
   ]
  },
  {
   "cell_type": "code",
   "execution_count": 48,
   "metadata": {},
   "outputs": [
    {
     "name": "stdout",
     "output_type": "stream",
     "text": [
      "  194.714 ns (2 allocations: 1.75 KiB)\n"
     ]
    }
   ],
   "source": [
    "function modifyC1!(A, B, C, i)\n",
    "    C[:, i] .= A[:, i] .* B[:, i]\n",
    "end\n",
    "@btime modifyC1!($A, $B, C, 2) setup=(C=Array{Float64}(undef, N, N));"
   ]
  },
  {
   "cell_type": "markdown",
   "metadata": {},
   "source": [
    "In this case, the row-major loop was about 50 percent slower than the column major one."
   ]
  },
  {
   "cell_type": "markdown",
   "metadata": {
    "slideshow": {
     "slide_type": "subslide"
    },
    "tags": []
   },
   "source": [
    "We might think that our vectorized call to `.*` in `modifyC1!` is enough to ensure the code runs fast.\n",
    "\n",
    "But in fact we are making unnecessary allocations. Using `@views` allow us to modify the array directly."
   ]
  },
  {
   "cell_type": "code",
   "execution_count": 49,
   "metadata": {},
   "outputs": [
    {
     "name": "stdout",
     "output_type": "stream",
     "text": [
      "  85.533 ns (0 allocations: 0 bytes)\n"
     ]
    }
   ],
   "source": [
    "@views function modifyC2!(A, B, C, i)\n",
    "    C[i, :] .= A[i, :] .* B[i, :]\n",
    "end\n",
    "@btime modifyC2!($A, $B, C, 2) setup=(C=Array{Float64}(undef, N, N));"
   ]
  },
  {
   "cell_type": "code",
   "execution_count": 50,
   "metadata": {},
   "outputs": [
    {
     "name": "stdout",
     "output_type": "stream",
     "text": [
      "  31.925 ns (0 allocations: 0 bytes)\n"
     ]
    }
   ],
   "source": [
    "@views function modifyC3!(A, B, C, i)\n",
    "    C[:, i] .= A[:, i] .* B[:, i]\n",
    "end\n",
    "@btime modifyC3!($A, $B, C, 2) setup=(C=Array{Float64}(undef, N, N));"
   ]
  },
  {
   "cell_type": "code",
   "execution_count": 51,
   "metadata": {
    "slideshow": {
     "slide_type": "subslide"
    },
    "tags": []
   },
   "outputs": [
    {
     "name": "stdout",
     "output_type": "stream",
     "text": [
      "  84.064 ns (0 allocations: 0 bytes)\n"
     ]
    }
   ],
   "source": [
    "function modifyC4!(A, B, C, i)\n",
    "    for j in 1:size(C)[1]\n",
    "        C[j, i] = A[j, i] * B[j, i]\n",
    "    end\n",
    "end\n",
    "@btime modifyC4!($A, $B, C, 2) setup=(C=Array{Float64}(undef, N, N));"
   ]
  },
  {
   "cell_type": "code",
   "execution_count": 52,
   "metadata": {},
   "outputs": [
    {
     "name": "stdout",
     "output_type": "stream",
     "text": [
      "  14.666 ns (0 allocations: 0 bytes)\n"
     ]
    }
   ],
   "source": [
    "function modifyC5!(A, B, C, i)\n",
    "    @inbounds for j in 1:size(C)[1]\n",
    "        C[j, i] = A[j, i] * B[j, i]\n",
    "    end\n",
    "end\n",
    "@btime modifyC5!($A, $B, C, 2) setup=(C=Array{Float64}(undef, N, N));"
   ]
  },
  {
   "cell_type": "markdown",
   "metadata": {
    "slideshow": {
     "slide_type": "subslide"
    },
    "tags": []
   },
   "source": [
    "## Basic Types\n",
    "\n",
    "Numbers come in different flavors in Julia."
   ]
  },
  {
   "cell_type": "code",
   "execution_count": 53,
   "metadata": {},
   "outputs": [
    {
     "data": {
      "text/plain": [
       "Int64"
      ]
     },
     "execution_count": 53,
     "metadata": {},
     "output_type": "execute_result"
    }
   ],
   "source": [
    "typeof(1)"
   ]
  },
  {
   "cell_type": "code",
   "execution_count": 54,
   "metadata": {},
   "outputs": [
    {
     "data": {
      "text/plain": [
       "Float64"
      ]
     },
     "execution_count": 54,
     "metadata": {},
     "output_type": "execute_result"
    }
   ],
   "source": [
    "typeof(1.)"
   ]
  },
  {
   "cell_type": "code",
   "execution_count": 55,
   "metadata": {
    "slideshow": {
     "slide_type": "subslide"
    },
    "tags": []
   },
   "outputs": [
    {
     "data": {
      "text/plain": [
       "Rational{Int64}"
      ]
     },
     "execution_count": 55,
     "metadata": {},
     "output_type": "execute_result"
    }
   ],
   "source": [
    "typeof(1 // 1)"
   ]
  },
  {
   "cell_type": "code",
   "execution_count": 56,
   "metadata": {},
   "outputs": [
    {
     "data": {
      "text/plain": [
       "Float32"
      ]
     },
     "execution_count": 56,
     "metadata": {},
     "output_type": "execute_result"
    }
   ],
   "source": [
    "typeof(1f0)"
   ]
  },
  {
   "cell_type": "markdown",
   "metadata": {},
   "source": [
    "More about numbers in the [documentation](https://docs.julialang.org/en/v1/manual/integers-and-floating-point-numbers/)"
   ]
  },
  {
   "cell_type": "markdown",
   "metadata": {
    "slideshow": {
     "slide_type": "subslide"
    },
    "tags": []
   },
   "source": [
    "**Tuples**"
   ]
  },
  {
   "cell_type": "code",
   "execution_count": 57,
   "metadata": {},
   "outputs": [
    {
     "data": {
      "text/plain": [
       "(5, 0.2)"
      ]
     },
     "execution_count": 57,
     "metadata": {},
     "output_type": "execute_result"
    }
   ],
   "source": [
    "b = (5, .2)"
   ]
  },
  {
   "cell_type": "markdown",
   "metadata": {},
   "source": [
    "As usual, tuples are not modifiable."
   ]
  },
  {
   "cell_type": "code",
   "execution_count": 58,
   "metadata": {},
   "outputs": [
    {
     "ename": "LoadError",
     "evalue": "MethodError: no method matching setindex!(::Tuple{Int64, Float64}, ::Int64, ::Int64)",
     "output_type": "error",
     "traceback": [
      "MethodError: no method matching setindex!(::Tuple{Int64, Float64}, ::Int64, ::Int64)",
      "",
      "Stacktrace:",
      " [1] top-level scope",
      "   @ In[58]:1",
      " [2] eval",
      "   @ ./boot.jl:360 [inlined]",
      " [3] include_string(mapexpr::typeof(REPL.softscope), mod::Module, code::String, filename::String)",
      "   @ Base ./loading.jl:1094"
     ]
    }
   ],
   "source": [
    "b[2] = 4"
   ]
  },
  {
   "cell_type": "markdown",
   "metadata": {
    "slideshow": {
     "slide_type": "subslide"
    },
    "tags": []
   },
   "source": [
    "**Dictionaries**"
   ]
  },
  {
   "cell_type": "code",
   "execution_count": 59,
   "metadata": {},
   "outputs": [
    {
     "data": {
      "text/plain": [
       "Dict{Any, Any} with 3 entries:\n",
       "  :d     => \"blue\"\n",
       "  \"ball\" => 2\n",
       "  1      => \"book\""
      ]
     },
     "execution_count": 59,
     "metadata": {},
     "output_type": "execute_result"
    }
   ],
   "source": [
    "d = Dict(:d => \"blue\", 1 => \"book\", \"ball\" => 2)"
   ]
  },
  {
   "cell_type": "code",
   "execution_count": 60,
   "metadata": {},
   "outputs": [
    {
     "data": {
      "text/plain": [
       "\"blue\""
      ]
     },
     "execution_count": 60,
     "metadata": {},
     "output_type": "execute_result"
    }
   ],
   "source": [
    "d[:d]"
   ]
  },
  {
   "cell_type": "code",
   "execution_count": 61,
   "metadata": {},
   "outputs": [
    {
     "data": {
      "text/plain": [
       "Dict{Any, Any} with 3 entries:\n",
       "  :d     => \"blue\"\n",
       "  \"ball\" => 45\n",
       "  1      => \"book\""
      ]
     },
     "execution_count": 61,
     "metadata": {},
     "output_type": "execute_result"
    }
   ],
   "source": [
    "d[\"ball\"] = 45\n",
    "d"
   ]
  },
  {
   "cell_type": "markdown",
   "metadata": {
    "slideshow": {
     "slide_type": "subslide"
    },
    "tags": []
   },
   "source": [
    "**Symbols**\n",
    "\n",
    "Symbols are a way in which the language code can represent itself a data structure. The evaluation of a symbol depends on the scope."
   ]
  },
  {
   "cell_type": "code",
   "execution_count": 62,
   "metadata": {},
   "outputs": [
    {
     "data": {
      "text/plain": [
       "Dict{Any, Any} with 3 entries:\n",
       "  :d     => \"blue\"\n",
       "  \"ball\" => 45\n",
       "  1      => \"book\""
      ]
     },
     "execution_count": 62,
     "metadata": {},
     "output_type": "execute_result"
    }
   ],
   "source": [
    "eval(:d)"
   ]
  },
  {
   "cell_type": "code",
   "execution_count": 63,
   "metadata": {},
   "outputs": [
    {
     "data": {
      "text/plain": [
       "\"blue\""
      ]
     },
     "execution_count": 63,
     "metadata": {},
     "output_type": "execute_result"
    }
   ],
   "source": [
    "d[:d]"
   ]
  },
  {
   "cell_type": "markdown",
   "metadata": {},
   "source": [
    "They are useful in metaprogramming, a feature which Julia shares with Lisp. This is an advanced feature briefly covered in the end of this tutorial.\n",
    "\n",
    "For more details check this [StackOverflow answer](https://stackoverflow.com/questions/23480722/what-is-a-symbol-in-julia)."
   ]
  },
  {
   "cell_type": "markdown",
   "metadata": {
    "slideshow": {
     "slide_type": "subslide"
    },
    "tags": []
   },
   "source": [
    "**Iterators**"
   ]
  },
  {
   "cell_type": "code",
   "execution_count": 94,
   "metadata": {},
   "outputs": [
    {
     "data": {
      "text/plain": [
       "1:2"
      ]
     },
     "execution_count": 94,
     "metadata": {},
     "output_type": "execute_result"
    }
   ],
   "source": [
    "a = 1:2"
   ]
  },
  {
   "cell_type": "code",
   "execution_count": 95,
   "metadata": {},
   "outputs": [
    {
     "data": {
      "text/plain": [
       "UnitRange{Int64}"
      ]
     },
     "execution_count": 95,
     "metadata": {},
     "output_type": "execute_result"
    }
   ],
   "source": [
    "typeof(a) # iterators are not arrays"
   ]
  },
  {
   "cell_type": "code",
   "execution_count": 96,
   "metadata": {},
   "outputs": [
    {
     "data": {
      "text/plain": [
       "(:start, :stop)"
      ]
     },
     "execution_count": 96,
     "metadata": {},
     "output_type": "execute_result"
    }
   ],
   "source": [
    "fieldnames(typeof(a)) # print the fields contained in a type"
   ]
  },
  {
   "cell_type": "code",
   "execution_count": 97,
   "metadata": {},
   "outputs": [
    {
     "data": {
      "text/plain": [
       "2-element Vector{Int64}:\n",
       " 1\n",
       " 2"
      ]
     },
     "execution_count": 97,
     "metadata": {},
     "output_type": "execute_result"
    }
   ],
   "source": [
    "collect(a) # convert range to vector"
   ]
  },
  {
   "cell_type": "markdown",
   "metadata": {
    "slideshow": {
     "slide_type": "subslide"
    },
    "tags": []
   },
   "source": [
    "## Types\n",
    "\n",
    "They come in three flavors.\n",
    "\n",
    "First, **immutable types**."
   ]
  },
  {
   "cell_type": "code",
   "execution_count": 68,
   "metadata": {},
   "outputs": [
    {
     "data": {
      "text/plain": [
       "Point(1.0, 0.0)"
      ]
     },
     "execution_count": 68,
     "metadata": {},
     "output_type": "execute_result"
    }
   ],
   "source": [
    "struct Point\n",
    "    x::Float64\n",
    "    y::Float64\n",
    "end\n",
    "a = Point(1., 0.)"
   ]
  },
  {
   "cell_type": "markdown",
   "metadata": {
    "slideshow": {
     "slide_type": "subslide"
    },
    "tags": []
   },
   "source": [
    "You cannot mutate immutable types."
   ]
  },
  {
   "cell_type": "code",
   "execution_count": 69,
   "metadata": {},
   "outputs": [
    {
     "ename": "LoadError",
     "evalue": "setfield! immutable struct of type Point cannot be changed",
     "output_type": "error",
     "traceback": [
      "setfield! immutable struct of type Point cannot be changed",
      "",
      "Stacktrace:",
      " [1] setproperty!(x::Point, f::Symbol, v::Int64)",
      "   @ Base ./Base.jl:34",
      " [2] top-level scope",
      "   @ In[69]:1",
      " [3] eval",
      "   @ ./boot.jl:360 [inlined]",
      " [4] include_string(mapexpr::typeof(REPL.softscope), mod::Module, code::String, filename::String)",
      "   @ Base ./loading.jl:1094"
     ]
    }
   ],
   "source": [
    "a.x = 2 "
   ]
  },
  {
   "cell_type": "markdown",
   "metadata": {
    "slideshow": {
     "slide_type": "subslide"
    },
    "tags": []
   },
   "source": [
    "Second, **mutable types**."
   ]
  },
  {
   "cell_type": "code",
   "execution_count": 98,
   "metadata": {},
   "outputs": [
    {
     "data": {
      "text/plain": [
       "MutablePoint(5.0, 3.0)"
      ]
     },
     "execution_count": 98,
     "metadata": {},
     "output_type": "execute_result"
    }
   ],
   "source": [
    "mutable struct MutablePoint\n",
    "    x::Float64\n",
    "    y::Float64\n",
    "end\n",
    "b = MutablePoint(5., 3.)"
   ]
  },
  {
   "cell_type": "code",
   "execution_count": 72,
   "metadata": {},
   "outputs": [
    {
     "data": {
      "text/plain": [
       "MutablePoint(2.0, 3.0)"
      ]
     },
     "execution_count": 72,
     "metadata": {},
     "output_type": "execute_result"
    }
   ],
   "source": [
    "b.x = 2.\n",
    "b"
   ]
  },
  {
   "cell_type": "markdown",
   "metadata": {
    "tags": []
   },
   "source": [
    "It is not advisable to create mutable structures unless necessary.\n",
    "\n",
    "In Julia immutable types are able to be stored closer to the CPU and have less cost of memory access --- they are stack allocate. On the other hand, mutable types are heap allocated."
   ]
  },
  {
   "cell_type": "markdown",
   "metadata": {
    "slideshow": {
     "slide_type": "subslide"
    },
    "tags": []
   },
   "source": [
    "Third, **abstract types** serve to define a hierarchy."
   ]
  },
  {
   "cell_type": "code",
   "execution_count": 73,
   "metadata": {},
   "outputs": [],
   "source": [
    "abstract type AbstractShape end "
   ]
  },
  {
   "cell_type": "code",
   "execution_count": 74,
   "metadata": {},
   "outputs": [
    {
     "data": {
      "text/plain": [
       "Square(5.0, 5.0, 2.0)"
      ]
     },
     "execution_count": 74,
     "metadata": {},
     "output_type": "execute_result"
    }
   ],
   "source": [
    "struct Square <: AbstractShape\n",
    "    x::Float64\n",
    "    y::Float64\n",
    "    length::Float64\n",
    "end\n",
    "Square(5., 5., 2.)"
   ]
  },
  {
   "cell_type": "markdown",
   "metadata": {
    "slideshow": {
     "slide_type": "subslide"
    },
    "tags": []
   },
   "source": [
    "The type of elements inside of types can also be parametrized."
   ]
  },
  {
   "cell_type": "code",
   "execution_count": 75,
   "metadata": {},
   "outputs": [
    {
     "data": {
      "text/plain": [
       "Rectangle{Int64}(5, 5, 2.0, 3.0)"
      ]
     },
     "execution_count": 75,
     "metadata": {},
     "output_type": "execute_result"
    }
   ],
   "source": [
    "struct Rectangle{T<:Number} <: AbstractShape\n",
    "    x::T\n",
    "    y::T\n",
    "    length::Float64\n",
    "    height::Float64\n",
    "end\n",
    "Rectangle{Int64}(5., 5., 2., 3.)"
   ]
  },
  {
   "cell_type": "markdown",
   "metadata": {
    "slideshow": {
     "slide_type": "subslide"
    },
    "tags": []
   },
   "source": [
    "As always, we can oveload functions in Julia to extend the functionality of our types."
   ]
  },
  {
   "cell_type": "code",
   "execution_count": 76,
   "metadata": {},
   "outputs": [
    {
     "data": {
      "text/plain": [
       "Point(6.0, 8.0)"
      ]
     },
     "execution_count": 76,
     "metadata": {},
     "output_type": "execute_result"
    }
   ],
   "source": [
    "Base.:+(a::Point, b::Point) = Point(a.x + b.x, a.y + b.y)\n",
    "Point(2., 3.) + Point(4., 5.)"
   ]
  },
  {
   "cell_type": "markdown",
   "metadata": {
    "slideshow": {
     "slide_type": "subslide"
    },
    "tags": []
   },
   "source": [
    "## Metaprogramming\n",
    "\n",
    "Throughout this tutorial you might have seen many commands that start with `@`. These are called macros. \n",
    "\n",
    "Macro are functions on expressions. It allow us to dynamically write code. In Julia every statement is of type `Expression` so we can build code to build code.\n",
    "\n",
    "An example is a fancy `@println`."
   ]
  },
  {
   "cell_type": "code",
   "execution_count": 77,
   "metadata": {
    "slideshow": {
     "slide_type": "subslide"
    },
    "tags": []
   },
   "outputs": [
    {
     "data": {
      "text/plain": [
       "@println (macro with 1 method)"
      ]
     },
     "execution_count": 77,
     "metadata": {},
     "output_type": "execute_result"
    }
   ],
   "source": [
    "macro println(s) return :( println($s) ) end"
   ]
  },
  {
   "cell_type": "code",
   "execution_count": 78,
   "metadata": {},
   "outputs": [
    {
     "name": "stdout",
     "output_type": "stream",
     "text": [
      "Hello, world!\n"
     ]
    }
   ],
   "source": [
    "@println \"Hello, world!\""
   ]
  },
  {
   "cell_type": "markdown",
   "metadata": {
    "tags": []
   },
   "source": [
    "The code takes an expression `s`, which is evaluated with `\\$s`. So, if `s` is a string like `\"foo\"`, it is evaluated to the string `\"foo\"` itself. \n",
    "\n",
    "The call to `println` is enclose in quotes --- `:( )` which is way to create expression objects.\n",
    "\n",
    "Whenever the macro is called the expression is evaluated. Thus, if we pass `\"foo\"` it is like we typed in the console: `println(\"foo\")`.\n",
    "\n",
    "Check the [documentation on metaprogramming](https://docs.julialang.org/en/v1/manual/metaprogramming/) for more details."
   ]
  },
  {
   "cell_type": "markdown",
   "metadata": {
    "slideshow": {
     "slide_type": "subslide"
    },
    "tags": []
   },
   "source": [
    "## Additional tutorials\n",
    "\n",
    "There are many additional materials on-line:\n",
    "\n",
    "- [Julia documentation](https://docs.julialang.org/en/v1/): the official manual (including base libraries).\n",
    "- [Get started with Julia](https://julialang.org/learning/): official recommendation of courses and books.\n",
    "- [Learn Julia in Y minutes](https://learnxinyminutes.com/docs/julia/): a quick tutorial for experienced programmers.\n",
    "- [Julia cheatshet](https://cheatsheets.quantecon.org/julia-cheatsheet.html): quick reference, mostly focused on numerical computation. \n",
    "- [Chris Rackauckas intro](https://www.youtube.com/watch?v=-lJK92bEKow): 30-minutes, quick video tutorial.\n",
    "- [A deep introduction to julia for data science and scientific computing](http://ucidatascienceinitiative.github.io/IntroToJulia/): another Chris Rackauckas's intro with a lot of good insights into Julia for scientific machine learning.\n",
    "- [Julia MIT](https://github.com/mitmath/julia-mit): simple tutorial on installing and using Julia targeted for MIT students.\n",
    "- [MIT 18.337J/6.338J](https://github.com/mitmath/18337): full semester course of Julia for scientific machine learning.\n",
    "- [QuantEcon](https://julia.quantecon.org/index_toc.html): in-depth introduction to quantitative economics with Julia.\n",
    "- [ThinkJulia](https://benlauwens.github.io/ThinkJulia.jl/latest/book.html): in-depth introduction to Julia from a computer science perspectie"
   ]
  },
  {
   "cell_type": "markdown",
   "metadata": {
    "slideshow": {
     "slide_type": "slide"
    }
   },
   "source": [
    "# ODEs and SciML\n",
    "\n",
    "**The initial value problem, classical approaches for fitting data to ODEs**"
   ]
  },
  {
   "cell_type": "markdown",
   "metadata": {
    "slideshow": {
     "slide_type": "slide"
    }
   },
   "source": [
    "# NeuralODE\n",
    "\n",
    "**The initial value problem reviewed, fitting data to ODEs with machine learning**"
   ]
  },
  {
   "cell_type": "markdown",
   "metadata": {
    "slideshow": {
     "slide_type": "slide"
    }
   },
   "source": [
    "# Exercises"
   ]
  },
  {
   "cell_type": "markdown",
   "metadata": {
    "slideshow": {
     "slide_type": "slide"
    }
   },
   "source": [
    "# References"
   ]
  },
  {
   "cell_type": "markdown",
   "metadata": {
    "slideshow": {
     "slide_type": "slide"
    }
   },
   "source": [
    "John Doe"
   ]
  }
 ],
 "metadata": {
  "kernelspec": {
   "display_name": "Julia 1.6.1",
   "language": "julia",
   "name": "julia-1.6"
  },
  "language_info": {
   "file_extension": ".jl",
   "mimetype": "application/julia",
   "name": "julia",
   "version": "1.6.1"
  },
  "toc-autonumbering": true,
  "toc-showcode": false,
  "toc-showmarkdowntxt": false,
  "toc-showtags": false
 },
 "nbformat": 4,
 "nbformat_minor": 4
}
