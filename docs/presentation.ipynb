{
 "cells": [
  {
   "cell_type": "markdown",
   "metadata": {
    "slideshow": {
     "slide_type": "slide"
    }
   },
   "source": [
    "# Phd-teach-PhD: Approaching science with AI\n",
    "\n",
    "**An introduction to scientific machine learning**\n",
    "\n",
    "Guilherme Zagatti      \n",
    "PhD candidate NUS NGS/IDS   \n",
    "<gzagatti@u.nus.edu>   "
   ]
  },
  {
   "cell_type": "markdown",
   "metadata": {
    "slideshow": {
     "slide_type": "slide"
    }
   },
   "source": [
    "## Outline\n",
    "\n",
    "1. Motivation: Dynamical systems describe changes we observe\n",
    "\n",
    "2. Julia\n",
    "\n",
    "    Intro to the language and ecosystem\n",
    "    \n",
    "3. A formal introduction to ODEs and SciML\n",
    "\n",
    "    The initial value problem\n",
    "    \n",
    "    `DifferentialEquations.jl`\n",
    "    \n",
    "    Fitting data to ODEs, classical approaches\n",
    "    \n",
    "4. NeuralODE\n",
    "\n",
    "    The initial value problem reviewed\n",
    "    \n",
    "    `Flux.jl`\n",
    "\n",
    "5. Exercises"
   ]
  },
  {
   "cell_type": "markdown",
   "metadata": {
    "slideshow": {
     "slide_type": "slide"
    }
   },
   "source": [
    "## Motivation\n",
    "\n",
    "**Dynamical systems describe changes we observe**"
   ]
  },
  {
   "cell_type": "markdown",
   "metadata": {
    "slideshow": {
     "slide_type": "slide"
    }
   },
   "source": [
    "## \"It is then by cause that we define time\" (Poincaré 1903)\n",
    "\n",
    "How do we learn about cause and effect if not by how we observe things evolving? \n",
    "\n",
    "**Dynamical systems** are an evolution rule that defines a trajectory as a map ([Meiss 2007](https://sinews.siam.org/Details-Page/differential-dynamical-systems-revised-edition-4)):\n",
    "\n",
    "<br/>\n",
    "\n",
    "$$\n",
    "    \\text{time} ↦ \\text{set of states}\n",
    "$$\n",
    "\n",
    "<br/>\n",
    "\n",
    "As a mathematics discipline, the study of dynamical systems originates at the end of 19th century spearheaded by [Henri Poincaré](https://plato.stanford.edu/entries/poincare/) who also developed an extensive theory of sciences."
   ]
  },
  {
   "cell_type": "markdown",
   "metadata": {
    "slideshow": {
     "slide_type": "slide"
    }
   },
   "source": [
    "### Physics: coupled oscillator\n",
    "\n",
    "Describes the movement of an object with mass $m$ attached to a spring under force $F$.\n",
    "\n",
    "<div style=\"column-count: 2; column-rule: 1px dotted #e0e0e0; display: flex;\">\n",
    "<div style=\"display: flex; width: 300px;\">\n",
    "<img src=\"../assets/mass-spring.png\" style=\"display: block; margin:auto;\"></img>\n",
    "</div>\n",
    "<div style=\"display: flex; align-items: center;\">\n",
    "$$\n",
    "F = ma \\Rightarrow\n",
    "\\frac{d^2 x}{dt^2} =-\\frac{kx}{m}\n",
    "$$\n",
    "</div>\n",
    "</div>"
   ]
  },
  {
   "cell_type": "markdown",
   "metadata": {
    "slideshow": {
     "slide_type": "slide"
    }
   },
   "source": [
    "### Ecology: Lotka-Volterra\n",
    "\n",
    "Describes the dynamics of two-competing species, the prey $x$ and predator $y$.\n",
    "\n",
    "<div style=\"column-count: 2; column-gap: 5px; display: flex;\">\n",
    "<div style=\"display: flex; width: 300px;\">\n",
    "<img src=\"../assets/fox-rabbit.png\" style=\"display: block; margin:auto;\"></img>\n",
    "</div>\n",
    "<div style=\"display: flex; align-items: center;\">\n",
    "$$\n",
    "\\begin{aligned}\n",
    "\\frac{dx}{dt} &= \\alpha x - \\beta xy \\\\\n",
    "\\frac{dy}{dt} & = \\delta xy - \\gamma y\n",
    "\\end{aligned}\n",
    "$$\n",
    "</div>\n",
    "</div>"
   ]
  },
  {
   "cell_type": "markdown",
   "metadata": {
    "slideshow": {
     "slide_type": "slide"
    }
   },
   "source": [
    "### Epidemiology: SIR\n",
    "\n",
    "Susceptible-infected-recovered. Describes the evolution of an infectious disease which is transmitted with rate $\\beta$ when a susceptible and an infected individual come into contact and disappears with rate $\\gamma$.\n",
    "\n",
    "<div style=\"column-count: 2; column-gap: 5px; display: flex;\">\n",
    "<div style=\"display: flex; width: 300px;\">\n",
    "<img src=\"../assets/sneeze.png\" style=\"display: block; margin:auto;\"></img>\n",
    "</div>\n",
    "<div style=\"display: flex; align-items: center;\">\n",
    "$$\n",
    "\\begin{aligned}\n",
    "\\frac{ds}{dt} &= - \\beta si \\\\\n",
    "\\frac{di}{dt} & = \\beta si - \\gamma i \\\\\n",
    "\\frac{dr}{dt} &= \\gamma i\n",
    "\\end{aligned}\n",
    "$$\n",
    "</div>\n",
    "</div>"
   ]
  },
  {
   "cell_type": "markdown",
   "metadata": {
    "slideshow": {
     "slide_type": "slide"
    }
   },
   "source": [
    "### Economics: Solow growth model\n",
    "\n",
    "The production function $f(.)$ describes growth as a function of $k$. The rate of capital growth is constrained by the savings rate $s$ and the depreciation rate of capital $\\delta$. \n",
    "\n",
    "<div style=\"column-count: 2; column-gap: 5px; display: flex;\">\n",
    "<div style=\"display: flex; width: 300px;\">\n",
    "<img src=\"../assets/growth.png\" style=\"display: block; margin:auto;\"></img>\n",
    "</div>\n",
    "<div style=\"display: flex; align-items: center;\">\n",
    "$$\n",
    "\\frac{dk}{dt} = s f(k) - \\delta k\n",
    "$$\n",
    "</div>\n",
    "</div>"
   ]
  },
  {
   "cell_type": "markdown",
   "metadata": {
    "slideshow": {
     "slide_type": "slide"
    }
   },
   "source": [
    "### Describing nature with models\n",
    "\n",
    "A lot ingenuity and observation is required to develop models that are both **consistent with reality and existing theory**.\n",
    "\n",
    "Science is a combination of **marginal revolutions and paradigm shifts**.\n",
    "\n",
    "Scientific machine learning is a **set of tools for automated model discovery** to support the development of models from data.\n",
    "    \n",
    "<img src=\"../assets/khun.png\" style=\"display: block; margin:auto; width: 300px;\"></img>\n",
    "\n",
    "\"*It is not sufficient for each elementary phenomenon to obey simple laws, all those to be combined must obey the same law as well.* \"<br/>Poincaré 1902"
   ]
  },
  {
   "cell_type": "markdown",
   "metadata": {
    "slideshow": {
     "slide_type": "slide"
    }
   },
   "source": [
    "## The <img src=\"../assets/julia-logo.svg\" style=\"display: inline; vertical-align: text-top; width: 36pt; \"></img> programming language\n",
    "\n",
    "**Fast** designed for high-performance, JIT compiled code.\n",
    "\n",
    "**Reproducible environment** `Manifest.toml` contains all the instructions to reproduce the environment; like the one in this notebook.\n",
    "\n",
    "**General** from data-wrangling through data-analytics to data-reporting\n",
    "\n",
    "**Dynamic** feels like Python\n",
    "\n",
    "**Composable** multiple dispatch as a paradigm and functional programming, not quite like Python\n",
    "\n",
    "**Open source** MIT license and active developer community in the scientific machine learning field.\n",
    "\n",
    "Visit [Julia's](https://julialang.org) website to get started. "
   ]
  },
  {
   "cell_type": "markdown",
   "metadata": {
    "slideshow": {
     "slide_type": "slide"
    }
   },
   "source": [
    "## Installation\n",
    "\n"
   ]
  },
  {
   "cell_type": "markdown",
   "metadata": {},
   "source": [
    "To follow the course, make sure to install the latest stable version of `Julia` from its [official page](https://julialang.org/downloads/). \n",
    "\n",
    "Then, clone this repository:\n",
    "\n",
    "```\n",
    "> git clone git@github.com:gzagatti/phdteachphd-sciml.git\n",
    "```\n",
    "\n",
    "After downloading the repository, activate the Julia environment and install all the dependencies:\n",
    "\n",
    "```\n",
    "> cd phdteachphd-sciml/\n",
    "> julia\n",
    "               _\n",
    "   _       _ _(_)_     |  Documentation: https://docs.julialang.org\n",
    "  (_)     | (_) (_)    |\n",
    "   _ _   _| |_  __ _   |  Type \"?\" for help, \"]?\" for Pkg help.\n",
    "  | | | | | | |/ _` |  |\n",
    "  | | |_| | | | (_| |  |  Version 1.6.1 (2021-04-23)\n",
    " _/ |\\__'_|_|_|\\__'_|  |  Official https://julialang.org/ release\n",
    "|__/                   |\n",
    "\n",
    "julia> ]\n",
    "(@v1.6) pkg> activate .\n",
    "  Activating environment at `./phdteachphd-sciml/Project.toml`\n",
    "(@v1.6) pkg> instantiate\n",
    "  Resolving package versions...\n",
    "  ...\n",
    "```\n"
   ]
  }
 ],
 "metadata": {
  "kernelspec": {
   "display_name": "Julia 1.6.1",
   "language": "julia",
   "name": "julia-1.6"
  },
  "language_info": {
   "file_extension": ".jl",
   "mimetype": "application/julia",
   "name": "julia",
   "version": "1.6.1"
  }
 },
 "nbformat": 4,
 "nbformat_minor": 4
}
