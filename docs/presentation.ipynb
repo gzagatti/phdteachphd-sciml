{
 "cells": [
  {
   "cell_type": "markdown",
   "metadata": {
    "slideshow": {
     "slide_type": "slide"
    }
   },
   "source": [
    "# Phd-teach-PhD: Approaching science with AI\n",
    "\n",
    "**An introduction to scientific machine learning**\n",
    "\n",
    "Guilherme Zagatti      \n",
    "PhD candidate, NUS ISEP/IDS   \n",
    "<gzagatti@u.nus.edu>   "
   ]
  },
  {
   "cell_type": "markdown",
   "metadata": {
    "slideshow": {
     "slide_type": "slide"
    },
    "tags": []
   },
   "source": [
    "# Outline\n",
    "\n",
    "1. Motivation\n",
    "\n",
    "    Dynamical systems describe changes we observe\n",
    "\n",
    "2. Julia\n",
    "\n",
    "    Intro to the language and ecosystem\n",
    "    \n",
    "3. A formal introduction to ODEs and SciML\n",
    "\n",
    "    The initial value problem\n",
    "        \n",
    "    Fitting data to ODEs, classical approaches\n",
    "    \n",
    "4. NeuralODE\n",
    "\n",
    "    The initial value problem reviewed\n",
    "    \n",
    "5. Exercises\n",
    "\n",
    "6. References"
   ]
  },
  {
   "cell_type": "markdown",
   "metadata": {
    "slideshow": {
     "slide_type": "slide"
    }
   },
   "source": [
    "# Motivation\n",
    "\n",
    "**Dynamical systems describe changes we observe**"
   ]
  },
  {
   "cell_type": "markdown",
   "metadata": {
    "slideshow": {
     "slide_type": "subslide"
    },
    "tags": []
   },
   "source": [
    "## \"It is then by cause that we define time\" (Poincaré 1903)\n",
    "\n",
    "How do we learn about cause and effect if not by how we observe things evolving? \n",
    "\n",
    "**Dynamical systems** are an evolution rule that defines a trajectory as a map (Meiss 2007):\n",
    "\n",
    "<br/>\n",
    "\n",
    "$$\n",
    "    \\text{time} ↦ \\text{set of states}\n",
    "$$\n",
    "\n",
    "<br/>\n",
    "\n",
    "As a mathematics discipline, the study of dynamical systems originates at the end of 19th century spearheaded by [Henri Poincaré](https://plato.stanford.edu/entries/poincare/) who also developed an extensive theory of sciences."
   ]
  },
  {
   "cell_type": "markdown",
   "metadata": {
    "slideshow": {
     "slide_type": "subslide"
    },
    "tags": []
   },
   "source": [
    "## Physics: coupled oscillator\n",
    "\n",
    "Describes the movement of an object with **mass $m$ attached to a spring under force $F$**.\n",
    "\n",
    "The force follows **Hooke's law**, that is, it is proportional to the initial displacement.\n",
    "\n",
    "<div style=\"display: flex;\">\n",
    "<div style=\"flex: 0 0 250px; margin-right: 10px;\">\n",
    "<img src=\"./assets/mass-spring.png\" style=\"height: 250px;\">\n",
    "</div>\n",
    "<div style=\"display: flex; align-items: center;\">\n",
    "$$\n",
    "F = ma \\Rightarrow\n",
    "\\frac{d^2 x}{dt^2} =-\\frac{kx}{m}\n",
    "$$\n",
    "</div>\n",
    "</div>"
   ]
  },
  {
   "cell_type": "markdown",
   "metadata": {
    "slideshow": {
     "slide_type": "subslide"
    },
    "tags": []
   },
   "source": [
    "## Ecology: Lotka-Volterra\n",
    "\n",
    "Describes the **dynamics of two-competing species**, the prey $x$ and predator $y$. Predator and prey come in contact to one another according to the proportion of each specie in the environment.\n",
    "\n",
    "The prey is born with rate $\\alpha$. The predator kills the prey with rate $\\beta$. \n",
    "\n",
    "The predator needs to eat the prey to grows at rate $\\delta$. The predator dies of natural cause at rate $\\gamma$.\n",
    "\n",
    "<div style=\"display: flex;\">\n",
    "<div style=\"flex: 0 0 250px; margin-right: 10px;\">\n",
    "<img src=\"./assets/fox-rabbit.png\" style=\"height: 200px;\">\n",
    "</div>\n",
    "<div style=\"display: flex; align-items: center;\">\n",
    "$$\n",
    "\\begin{aligned}\n",
    "\\frac{dx}{dt} &= \\alpha x - \\beta xy \\\\\n",
    "\\frac{dy}{dt} & = \\delta xy - \\gamma y\n",
    "\\end{aligned}\n",
    "$$\n",
    "</div>"
   ]
  },
  {
   "cell_type": "markdown",
   "metadata": {
    "slideshow": {
     "slide_type": "subslide"
    },
    "tags": []
   },
   "source": [
    "## Epidemiology: SIR\n",
    "\n",
    "Susceptible-infected-recovered: describes the **evolution of an infectious disease**. \n",
    "\n",
    "Susceptible and infected come in contact to one another according to the proportion of each type in the population. The disease is then transmitted with rate $\\beta$. An infected person recovers with rate $\\gamma$.\n",
    "\n",
    "<div style=\"display: flex;\">\n",
    "<div style=\"flex: 0 0 250px; margin-right: 10px;\">\n",
    "<img src=\"./assets/sneeze.png\" style=\"width: 250px\">\n",
    "</div>\n",
    "<div style=\"display: flex; align-items: center;\">\n",
    "$$\n",
    "\\begin{aligned}\n",
    "\\frac{ds}{dt} &= - \\beta si \\\\\n",
    "\\frac{di}{dt} & = \\beta si - \\gamma i \\\\\n",
    "\\frac{dr}{dt} &= \\gamma i\n",
    "\\end{aligned}\n",
    "$$\n",
    "</div>"
   ]
  },
  {
   "cell_type": "markdown",
   "metadata": {
    "slideshow": {
     "slide_type": "subslide"
    },
    "tags": []
   },
   "source": [
    "## Economics: Solow growth model\n",
    "\n",
    "The production function $f(.)$ describes **economic growth as a function of $k$**. \n",
    "\n",
    "The rate of capital growth is constrained by the savings rate $s$ and the depreciation rate of capital $\\delta$. \n",
    "\n",
    "<div style=\"column-count: 2; column-gap: 10px; display: flex;\">\n",
    "<div style=\"flex: 0 0 250px; margin-right: 10px;\">\n",
    "<img src=\"./assets/growth.png\" style=\"width: 250px;\">\n",
    "</div>\n",
    "<div style=\"display: flex; align-items: center;\">\n",
    "$$\n",
    "\\frac{dk}{dt} = s f(k) - \\delta k\n",
    "$$\n",
    "</div>"
   ]
  },
  {
   "cell_type": "markdown",
   "metadata": {
    "slideshow": {
     "slide_type": "subslide"
    },
    "tags": []
   },
   "source": [
    "## A common thread\n",
    "\n",
    "All of the models presented describe how the **variables of interest** change as a **function of time** given a set of parameters.\n",
    "\n",
    "Let our parameters of interest be $ x = (x_1 \\;  x_2 \\;  \\dots \\;  x_n) \\in \\mathbb{R}^n$ and $f: \\mathbb{R}^n ↦ \\mathbb{R}^n $.\n",
    "\n",
    "We can express any **generic model** as following:\n",
    "\n",
    "$$\n",
    "\\dot{x} = \\frac{d x}{dt} = f(x)\n",
    "$$\n",
    "\n",
    "An key problem is whether any such models have a **unique solution**, that is:\n",
    "\n",
    "> If we are given an initial set of parameters and an initial condition can we determine the state of the system at any point in the future?"
   ]
  },
  {
   "cell_type": "markdown",
   "metadata": {
    "slideshow": {
     "slide_type": "subslide"
    },
    "tags": []
   },
   "source": [
    "## What is in a function?\n",
    "\n",
    "Notice that we placed **no restrictions on $f(.)$**. So, it could really be anything.\n",
    "\n",
    "> In practical terms, can we develop a method that is able to list every possible way in which an element from a set $X$ can be mapped to a single element of a set $Y$?\n",
    "\n",
    "If set $X$ and $Y$ are small we can simply list all possible functions:\n",
    "\n",
    "<div style=\"display: flex;\">\n",
    "<div style=\"flex: 0 0 50%; align-items: center; margin-right: 10px;\">\n",
    "$$\n",
    "\\vdots \\\\\n",
    "f_i(x) = \\begin{cases}\n",
    "D \\text{, if } x = 1 \\\\\n",
    "C \\text{, if } x \\in \\{2, 3\\}\n",
    "\\end{cases} \\\\\n",
    "\\vdots\n",
    "$$\n",
    "</div>\n",
    "<div style=\"flex: 0 0 50%; align-items: center\">\n",
    "<img src=\"./assets/injection.svg\" style=\"width: 150px;\">\n",
    "</div>\n",
    "</div>\n",
    "\n",
    "However, **this does not scale**. Most spaces are continuous and infinite."
   ]
  },
  {
   "cell_type": "markdown",
   "metadata": {
    "slideshow": {
     "slide_type": "subslide"
    },
    "tags": []
   },
   "source": [
    "## Linear models\n",
    "\n",
    "We can consider additional strategies. \n",
    "\n",
    "For instance, we can restrict ourselves only to **linear functions**, when variables change in proportion to the current (or previous) states.\n",
    "\n",
    "$$\n",
    "\\dot{x} = f(x) = A x\n",
    "$$\n",
    "\n",
    "The simple harmonic oscillator presented in the beginning is a member of this class of functions.\n",
    "\n",
    "Again, this is **very restricitve**. "
   ]
  },
  {
   "cell_type": "markdown",
   "metadata": {
    "slideshow": {
     "slide_type": "subslide"
    },
    "tags": []
   },
   "source": [
    "## Classical function generators\n",
    "\n",
    "There are other alternatives, we could have the class of **polynomial functions**. \n",
    "\n",
    "We know from [Taylor's theorem](https://en.wikipedia.org/wiki/Taylor%27s_theorem#Generalizations_of_Taylor's_theorem) that a $k$-times differentiable function $f$ can be approximated with a Polynomial of $k$ degrees:\n",
    "\n",
    "$$\n",
    "\\dot{x} = f(x_0) + \\sum_k \\frac{d^k f}{d x^n} \\frac{(x - x_0)^k}{k!}\n",
    "$$\n",
    "\n",
    "The advantage of Taylor series is that we can **describe $f(.)$ according to its derivatives** --- that is, the way it changes in a small neighborhood.\n",
    "\n",
    "When $k = 1$, we can approximate the function with a linear function.\n"
   ]
  },
  {
   "cell_type": "markdown",
   "metadata": {
    "slideshow": {
     "slide_type": "subslide"
    },
    "tags": []
   },
   "source": [
    "## Cyclical decompositions\n",
    "\n",
    "Alternatively, we can generate any [square-integrable functions](https://en.wikipedia.org/wiki/Square-integrable_function) --- that is, functions with a finite norm -- using the [Fourier series](https://en.wikipedia.org/wiki/Fourier_series) \n",
    "\n",
    "$$\n",
    "\\dot{x} = \\sum_{n \\in \\mathbb{Z}} \\langle f, e_n \\rangle \\, e_n(x)\n",
    "$$\n",
    "\n",
    "where $\\langle . \\, , \\, . \\rangle$ is the inner product of two functions and $e_n(x) = e^{inx}$.\n",
    "\n",
    "The Fourier series allow us to describe **changes in terms of cycles**.\n",
    "\n",
    "The lower the $n$, the lower the frequency of the cycle."
   ]
  },
  {
   "cell_type": "markdown",
   "metadata": {
    "slideshow": {
     "slide_type": "subslide"
    },
    "tags": []
   },
   "source": [
    "## Finding laws from data\n",
    "\n",
    "Ok, so now that we have at least three general methods for generating arbitrary functions. \n",
    "\n",
    "**It should be easy to discover laws from data**, a simple linear regression will help us to find the parameters that best fit the data:\n",
    "\n",
    "$$\n",
    "\\hat{\\alpha} = \n",
    "$$\n",
    "\n"
   ]
  },
  {
   "cell_type": "markdown",
   "metadata": {
    "slideshow": {
     "slide_type": "subslide"
    },
    "tags": []
   },
   "source": [
    "## From generic functions to black boxes"
   ]
  },
  {
   "cell_type": "markdown",
   "metadata": {
    "slideshow": {
     "slide_type": "subslide"
    },
    "tags": []
   },
   "source": [
    "## Describing nature with models\n",
    "\n",
    "<p>\"*It is not sufficient for each elementary phenomenon to obey simple laws, all those to be combined must obey the same law as well.*\"<br/>Poincaré 1902\n",
    "\n",
    "A lot ingenuity and observation is required to develop models that are both **consistent with reality and existing theory**.\n",
    "\n",
    "Scientific machine learning is a **set of tools for automated model discovery** to support the development of models from data.\n",
    "    \n",
    "<div style=\"display: flex;\">\n",
    "<div style=\"flex: 0 0 250px;\">\n",
    "<img src=\"./assets/khun.png\" style=\"height: 150px;\">\n",
    "</div>\n",
    "<div style=\"display: flex; align-items: center;\">\n",
    "<p>According to Thomas Khun, science is a combination of <b>marginal revolutions and paradigm shifts</b>.</p>\n",
    "</div>\n",
    "</div>"
   ]
  },
  {
   "cell_type": "markdown",
   "metadata": {
    "slideshow": {
     "slide_type": "subslide"
    },
    "tags": []
   },
   "source": [
    "## What about stochastic models?"
   ]
  },
  {
   "cell_type": "markdown",
   "metadata": {
    "slideshow": {
     "slide_type": "slide"
    }
   },
   "source": [
    "# Julia\n",
    "\n",
    "**Into to the language and ecosystem**"
   ]
  },
  {
   "cell_type": "markdown",
   "metadata": {
    "slideshow": {
     "slide_type": "subslide"
    },
    "tags": []
   },
   "source": [
    "## The <img src=\"./assets/julia-logo.svg\" style=\"display: inline; vertical-align: text-top; width: 36pt; \"></img> programming language\n",
    "\n",
    "**Fast** designed for high-performance, JIT compiled code.\n",
    "\n",
    "**Reproducible environment** `Manifest.toml` contains all the instructions to reproduce the environment; like the one in this notebook.\n",
    "\n",
    "**General** from data-wrangling through data-analytics to data-reporting\n",
    "\n",
    "**Dynamic** feels like Python\n",
    "\n",
    "**Composable** multiple dispatch as a paradigm and functional programming, not quite like Python\n",
    "\n",
    "**Open source** MIT license and active developer community in the scientific machine learning field.\n",
    "\n",
    "Visit [Julia's](https://julialang.org) website to get started. "
   ]
  },
  {
   "cell_type": "markdown",
   "metadata": {
    "slideshow": {
     "slide_type": "subslide"
    },
    "tags": []
   },
   "source": [
    "## Installation\n",
    "\n",
    "To follow the course, make sure to install the latest stable version of `Julia` from its [official page](https://julialang.org/downloads/). \n",
    "\n",
    "Then, clone this repository:\n",
    "\n",
    "```\n",
    "> git clone git@github.com:gzagatti/phdteachphd-sciml.git\n",
    "```\n",
    "\n",
    "After downloading the repository, activate its Julia environment and install its dependencies:\n",
    "\n",
    "```\n",
    "> cd phdteachphd-sciml/\n",
    "> julia\n",
    "               _\n",
    "   _       _ _(_)_     |  Documentation: https://docs.julialang.org\n",
    "  (_)     | (_) (_)    |\n",
    "   _ _   _| |_  __ _   |  Type \"?\" for help, \"]?\" for Pkg help.\n",
    "  | | | | | | |/ _` |  |\n",
    "  | | |_| | | | (_| |  |  Version 1.6.1 (2021-04-23)\n",
    " _/ |\\__'_|_|_|\\__'_|  |  Official https://julialang.org/ release\n",
    "|__/                   |\n",
    "\n",
    "julia> ]\n",
    "(@v1.6) pkg> activate .\n",
    "  Activating environment at `./phdteachphd-sciml/Project.toml`\n",
    "(@v1.6) pkg> instantiate\n",
    "  Resolving package versions...\n",
    "  ...\n",
    "```\n"
   ]
  },
  {
   "cell_type": "markdown",
   "metadata": {
    "slideshow": {
     "slide_type": "subslide"
    },
    "tags": []
   },
   "source": [
    "## Interacting with Julia\n",
    "\n",
    "<div style=\"column-count: 2; column-gap: 5px; display: flex;\">\n",
    "<div style=\"display: flex; align-items: center;\">\n",
    "<ol>\n",
    "<li>as a scripting language <pre><code>> julia my-code.jl</code></pre></li>\n",
    "<li>from the terminal using the built-in REPL <pre><code>julia> 1 + 1</code></pre></li>\n",
    "<li>from a Jupyter notebook using <code>IJulia</code> <pre><code>julia> using IJulia; jupyterlab();</code></pre></li>\n",
    "<li>from <a href=\"https://www.julia-vscode.org/\">Julia for VSCode</a> a powerful IDE for interactive computing similar to Rstudio</li>\n",
    "</ol>\n",
    "</div>\n",
    "<div style=\"display: flex; width: 600px;\">\n",
    "<img src=\"./assets/vscode.png\" style=\"display: block; margin:auto;\">\n",
    "</div>\n",
    "</div>"
   ]
  },
  {
   "cell_type": "markdown",
   "metadata": {
    "slideshow": {
     "slide_type": "subslide"
    },
    "tags": []
   },
   "source": [
    "## Ecosystem\n",
    "\n",
    "Julia comes with a built-in pac"
   ]
  },
  {
   "cell_type": "markdown",
   "metadata": {
    "slideshow": {
     "slide_type": "subslide"
    },
    "tags": []
   },
   "source": [
    "## Ecosystem\n",
    "\n",
    "Julia comes with a built-in pac"
   ]
  },
  {
   "cell_type": "markdown",
   "metadata": {
    "slideshow": {
     "slide_type": "slide"
    }
   },
   "source": [
    "# ODEs and SciML\n",
    "\n",
    "**The initial value problem, classical approaches for fitting data to ODEs**"
   ]
  },
  {
   "cell_type": "markdown",
   "metadata": {
    "slideshow": {
     "slide_type": "slide"
    }
   },
   "source": [
    "# NeuralODE\n",
    "\n",
    "**The initial value problem reviewed, fitting data to ODEs with machine learning**"
   ]
  },
  {
   "cell_type": "markdown",
   "metadata": {
    "slideshow": {
     "slide_type": "slide"
    }
   },
   "source": [
    "# Exercises"
   ]
  },
  {
   "cell_type": "markdown",
   "metadata": {
    "slideshow": {
     "slide_type": "slide"
    }
   },
   "source": [
    "# References"
   ]
  },
  {
   "cell_type": "markdown",
   "metadata": {
    "slideshow": {
     "slide_type": "slide"
    }
   },
   "source": [
    "Meiss 2007"
   ]
  },
  {
   "cell_type": "code",
   "execution_count": null,
   "metadata": {},
   "outputs": [],
   "source": []
  }
 ],
 "metadata": {
  "kernelspec": {
   "display_name": "Julia 1.6.1",
   "language": "julia",
   "name": "julia-1.6"
  },
  "language_info": {
   "file_extension": ".jl",
   "mimetype": "application/julia",
   "name": "julia",
   "version": "1.6.1"
  },
  "toc-autonumbering": true,
  "toc-showcode": false,
  "toc-showmarkdowntxt": false,
  "toc-showtags": false
 },
 "nbformat": 4,
 "nbformat_minor": 4
}
